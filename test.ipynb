{
 "cells": [
  {
   "cell_type": "code",
   "execution_count": 28,
   "metadata": {},
   "outputs": [],
   "source": [
    "import pandas as pd\n",
    "import icecream as ic\n",
    "import numpy as np\n",
    "import plotly\n",
    "import matplotlib as plt\n",
    "import xml.etree.ElementTree as ET\n",
    "from inspect import getmembers, isclass, isfunction\n",
    "import pandas as pd\n",
    "from bs4 import BeautifulSoup\n",
    "import bs4 as bs\n",
    "import lxml"
   ]
  },
  {
   "cell_type": "code",
   "execution_count": 2,
   "metadata": {},
   "outputs": [],
   "source": [
    "tree = ET.parse(\"test.xml\")\n",
    "root = tree.getroot()"
   ]
  },
  {
   "cell_type": "code",
   "execution_count": 43,
   "metadata": {},
   "outputs": [
    {
     "data": {
      "text/plain": [
       "[<Element 'genre' at 0x7fd0c9829130>, <Element 'genre' at 0x7fd0c983bef0>]"
      ]
     },
     "execution_count": 43,
     "metadata": {},
     "output_type": "execute_result"
    }
   ],
   "source": [
    "list(root)"
   ]
  },
  {
   "cell_type": "code",
   "execution_count": 7,
   "metadata": {},
   "outputs": [
    {
     "name": "stdout",
     "output_type": "stream",
     "text": [
      "<Element 'movie' at 0x7fd0c983b8b0>\n",
      "<Element 'movie' at 0x7fd0c983bbd0>\n"
     ]
    }
   ],
   "source": [
    "for movie in root.findall(\"./genre/decade/movie/[year='1992']\"):\n",
    "    print(movie)"
   ]
  },
  {
   "cell_type": "code",
   "execution_count": 14,
   "metadata": {},
   "outputs": [
    {
     "ename": "AttributeError",
     "evalue": "'xml.etree.ElementTree.Element' object has no attribute 'element'",
     "output_type": "error",
     "traceback": [
      "\u001b[0;31m---------------------------------------------------------------------------\u001b[0m",
      "\u001b[0;31mAttributeError\u001b[0m                            Traceback (most recent call last)",
      "\u001b[0;32m<ipython-input-14-8f1964322e6b>\u001b[0m in \u001b[0;36m<module>\u001b[0;34m\u001b[0m\n\u001b[0;32m----> 1\u001b[0;31m \u001b[0mroot\u001b[0m\u001b[0;34m[\u001b[0m\u001b[0;36m0\u001b[0m\u001b[0;34m]\u001b[0m\u001b[0;34m.\u001b[0m\u001b[0melement\u001b[0m\u001b[0;34m\u001b[0m\u001b[0;34m\u001b[0m\u001b[0m\n\u001b[0m",
      "\u001b[0;31mAttributeError\u001b[0m: 'xml.etree.ElementTree.Element' object has no attribute 'element'"
     ]
    }
   ],
   "source": [
    "root[0].element"
   ]
  },
  {
   "cell_type": "code",
   "execution_count": 18,
   "metadata": {},
   "outputs": [
    {
     "ename": "AttributeError",
     "evalue": "'xml.etree.ElementTree.Element' object has no attribute 'tostring'",
     "output_type": "error",
     "traceback": [
      "\u001b[0;31m---------------------------------------------------------------------------\u001b[0m",
      "\u001b[0;31mAttributeError\u001b[0m                            Traceback (most recent call last)",
      "\u001b[0;32m<ipython-input-18-cdd32014814d>\u001b[0m in \u001b[0;36m<module>\u001b[0;34m\u001b[0m\n\u001b[0;32m----> 1\u001b[0;31m \u001b[0;34m[\u001b[0m\u001b[0melem\u001b[0m\u001b[0;34m.\u001b[0m\u001b[0mtag\u001b[0m \u001b[0;32mfor\u001b[0m \u001b[0melem\u001b[0m \u001b[0;32min\u001b[0m \u001b[0mroot\u001b[0m\u001b[0;34m.\u001b[0m\u001b[0mtostring\u001b[0m\u001b[0;34m(\u001b[0m\u001b[0;34m)\u001b[0m\u001b[0;34m]\u001b[0m\u001b[0;34m\u001b[0m\u001b[0;34m\u001b[0m\u001b[0m\n\u001b[0m",
      "\u001b[0;31mAttributeError\u001b[0m: 'xml.etree.ElementTree.Element' object has no attribute 'tostring'"
     ]
    }
   ],
   "source": [
    "[elem.tag for elem in root.tostring()]\n"
   ]
  },
  {
   "cell_type": "code",
   "execution_count": 15,
   "metadata": {},
   "outputs": [
    {
     "data": {
      "text/plain": [
       "['collection',\n",
       " 'genre',\n",
       " 'decade',\n",
       " 'movie',\n",
       " 'format',\n",
       " 'year',\n",
       " 'rating',\n",
       " 'description',\n",
       " 'movie',\n",
       " 'format',\n",
       " 'year',\n",
       " 'rating',\n",
       " 'description',\n",
       " 'movie',\n",
       " 'format',\n",
       " 'year',\n",
       " 'rating',\n",
       " 'description',\n",
       " 'decade',\n",
       " 'movie',\n",
       " 'format',\n",
       " 'year',\n",
       " 'rating',\n",
       " 'description',\n",
       " 'movie',\n",
       " 'format',\n",
       " 'year',\n",
       " 'rating',\n",
       " 'description',\n",
       " 'movie',\n",
       " 'format',\n",
       " 'year',\n",
       " 'rating',\n",
       " 'description',\n",
       " 'genre',\n",
       " 'decade',\n",
       " 'movie',\n",
       " 'format',\n",
       " 'year',\n",
       " 'rating',\n",
       " 'description',\n",
       " 'decade',\n",
       " 'movie',\n",
       " 'format',\n",
       " 'year',\n",
       " 'rating',\n",
       " 'description',\n",
       " 'movie',\n",
       " 'format',\n",
       " 'year',\n",
       " 'rating',\n",
       " 'description']"
      ]
     },
     "execution_count": 15,
     "metadata": {},
     "output_type": "execute_result"
    }
   ],
   "source": [
    "[elem.tag for elem in root.iter()]\n"
   ]
  },
  {
   "cell_type": "code",
   "execution_count": 33,
   "metadata": {},
   "outputs": [],
   "source": [
    "with open(\"test.xml\", \"r\") as file:\n",
    "    # Read each line in the file, readlines() returns a list of lines\n",
    "    content = file.readlines()\n",
    "    # Combine the lines in the list into a string\n",
    "    content = \"\".join(content)\n",
    "    bs_content = BeautifulSoup(content, \"lxml\")"
   ]
  },
  {
   "cell_type": "code",
   "execution_count": 42,
   "metadata": {},
   "outputs": [
    {
     "data": {
      "text/plain": [
       "[<year>1981</year>,\n",
       " <year>1984</year>,\n",
       " <year>1985</year>,\n",
       " <year>2000</year>,\n",
       " <year>1992</year>,\n",
       " <year>1992</year>,\n",
       " <year>1979</year>,\n",
       " <year>1986</year>,\n",
       " <year>2000</year>]"
      ]
     },
     "execution_count": 42,
     "metadata": {},
     "output_type": "execute_result"
    }
   ],
   "source": [
    "xml_tag = bs_content.find_all(\"year\")\n",
    "xml_tag"
   ]
  },
  {
   "cell_type": "code",
   "execution_count": null,
   "metadata": {},
   "outputs": [],
   "source": []
  }
 ],
 "metadata": {
  "kernelspec": {
   "display_name": "Python 3.8.8 64-bit ('anaconda3')",
   "language": "python",
   "name": "python3"
  },
  "language_info": {
   "codemirror_mode": {
    "name": "ipython",
    "version": 3
   },
   "file_extension": ".py",
   "mimetype": "text/x-python",
   "name": "python",
   "nbconvert_exporter": "python",
   "pygments_lexer": "ipython3",
   "version": "3.8.8"
  },
  "orig_nbformat": 4,
  "vscode": {
   "interpreter": {
    "hash": "b1b1938cf3d591d47e6fae0559c1570f615a15d3afe822d881c085899a80a8da"
   }
  }
 },
 "nbformat": 4,
 "nbformat_minor": 2
}
