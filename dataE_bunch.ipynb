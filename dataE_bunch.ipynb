{
 "cells": [
  {
   "cell_type": "markdown",
   "metadata": {},
   "source": [
    "<h2>E: clinics"
   ]
  },
  {
   "cell_type": "code",
   "execution_count": 4,
   "metadata": {},
   "outputs": [],
   "source": [
    "import pandas as pd\n",
    "import icecream as ic\n",
    "import numpy as np\n",
    "import plotly\n",
    "import matplotlib as plt\n",
    "import xml.etree.ElementTree as ET\n",
    "import pandas as pd\n",
    "import psycopg2\n",
    "import psycopg2.extras"
   ]
  },
  {
   "cell_type": "code",
   "execution_count": 1,
   "metadata": {},
   "outputs": [],
   "source": [
    "chemical_list = ['Acetazolamide','Acetylcholine','Adenosine']"
   ]
  },
  {
   "cell_type": "markdown",
   "metadata": {},
   "source": [
    "E1: therapeutic areas"
   ]
  },
  {
   "cell_type": "code",
   "execution_count": 66,
   "metadata": {},
   "outputs": [],
   "source": [
    "# We collected ATC classification system codes from DrugBank and the Kyoto Encylopedia of Genes and Genomes. \n",
    "# To capture the ATC hierarchy, we annotated molecules with their full ATC code (level 5), plus all higher levels (4 to 1)\n",
    "\n",
    "# drugbank_df = pd.read_csv(\"DB/drugbank_extracted1.csv\")\n",
    "def e1_func(chemical):\n",
    "    output = drugbank_df[drugbank_df[\"dg_name\"]==chemical]['atc_codes'].unique()\n",
    "    output = output.tolist()[0]\n",
    "    output = output.split(';')\n",
    "    output = ' '.join(output)\n",
    "    return output"
   ]
  },
  {
   "cell_type": "markdown",
   "metadata": {},
   "source": [
    "E2: indications"
   ]
  },
  {
   "cell_type": "code",
   "execution_count": 107,
   "metadata": {},
   "outputs": [
    {
     "name": "stderr",
     "output_type": "stream",
     "text": [
      "/var/folders/78/zn54_c9d2jb_8j8xx5s59dqw0000gn/T/ipykernel_39325/2483869425.py:3: DtypeWarning: Columns (1,5,7,9) have mixed types. Specify dtype option on import or set low_memory=False.\n",
      "  E2_chemble=pd.read_csv('../E1_Chemble_data.csv.gz',compression='gzip')\n"
     ]
    }
   ],
   "source": [
    "# We fetched approved and phase I-IV drug indications from ChEMBL and RepoDB 78 (v.1, http://apps.chiragjpgroup.org/repoDB)\n",
    "#chembl\n",
    "E2_chemble=pd.read_csv('../E1_Chemble_data.csv.gz',compression='gzip')\n",
    "E2_repoDB = pd.read_csv('../E2_repoDB.csv')"
   ]
  },
  {
   "cell_type": "code",
   "execution_count": 69,
   "metadata": {},
   "outputs": [],
   "source": [
    "def e2_func(chemical):\n",
    "    output = E2_chemble[E2_chemble['compound_name']==chemical]\n",
    "    output = output.values\n",
    "    output = [item for sublist in output for item in sublist]\n",
    "    output = [str(x) for x in output]\n",
    "    output = ' '.join(output)\n",
    "    \n",
    "    output_repo = E2_repoDB[E2_repoDB['drug_name']==chemical]\n",
    "    output_repo = output_repo.values\n",
    "    output_repo = [item for sublist in output_repo for item in sublist]\n",
    "    output_repo = [str(x) for x in output_repo]\n",
    "    output_repo = ' '.join(output_repo)\n",
    "    final_out = [output, output_repo]\n",
    "    final_out = ' '.join(final_out)\n",
    "    return final_out"
   ]
  },
  {
   "cell_type": "markdown",
   "metadata": {},
   "source": [
    "E3: side effects"
   ]
  },
  {
   "cell_type": "code",
   "execution_count": 26,
   "metadata": {},
   "outputs": [],
   "source": [
    "# side effects. We collected drug side effects from SIDER80 (v.4, http://sideeffects.embl.de), \n",
    "# expressed as Unified Medical Language System terms. \n",
    "# We did not consider frequency information since we and others have found it to be too scarce for comprehensive statistical analyses\n",
    "E3_sider=pd.read_csv('../E3_meddra_all_label_se.tsv.gz', sep ='\\t', compression='gzip', names=['compound_id', 'UMLS_concept_id', 'method_of_detection', 'concept_name', 'MedDRA_concept_type', 'UMLS_id_for_MedDRA_term', 'MedDRA_concept_name'])\n",
    "E3_sider_name = pd.read_csv('../E3_sider_names.tsv', sep = '\\t',names=['UMLS_concept_id', 'drug_name'])\n",
    "E3_sider_atc = pd.read_csv('../E3_sider_atc.tsv', sep = '\\t', names=['UMLS_concept_id', 'atc_codes'])"
   ]
  },
  {
   "cell_type": "code",
   "execution_count": 106,
   "metadata": {},
   "outputs": [],
   "source": [
    "def e3_func(chemical):\n",
    "    atc = drugbank_df[drugbank_df[\"dg_name\"]==chemical]['atc_codes'].unique()[0].split(';')\n",
    "    UMLS_concept_id = E3_sider_atc[E3_sider_atc['atc_codes'].isin(atc)]['UMLS_concept_id'].values[0]\n",
    "    output = E3_sider[E3_sider['UMLS_concept_id']==UMLS_concept_id]\n",
    "    output = output.values.tolist()\n",
    "    output = [x for sublist in output for x in sublist]\n",
    "    output = [str(x) for x in output]\n",
    "    output = ' '.join(output)\n",
    "    return output   \n",
    "    "
   ]
  },
  {
   "cell_type": "markdown",
   "metadata": {},
   "source": [
    "E4: disease phenotypes"
   ]
  },
  {
   "cell_type": "code",
   "execution_count": 78,
   "metadata": {},
   "outputs": [],
   "source": [
    "# disease phenotypes. Associations between chemicals and disease phenotypes were downloaded from the Comparative Toxicogenomics Database (CTD)83 (http://ctdbase.org, July 2016). \n",
    "# We took only ‘curated’ CTD data. In CTD, compound-disease associations are classified as ‘therapeutic’ (T) or ‘marker/mechanism’ (M) (usually corresponding to a disease-causing effect). #!drop nan?\n",
    "# T and M annotations were kept separately for each molecule. \n",
    "# CTD contains a medical vocabulary (MEDIC) that is essentially based on the MeSH hierarchy. \n",
    "# For each annotated disease, we added parent terms all the way to the root of the MEDIC hierarchy\n",
    "\n",
    "E4_CTD = pd.read_csv('../E4_CTD_chemicals_diseases.csv')\n",
    "E4_chemical_names = pd.read_csv('../E4_CTD_chemical_names.csv')\n",
    "E4_disease_names = pd.read_csv('../E4_CTD_disease_names.csv')"
   ]
  },
  {
   "cell_type": "code",
   "execution_count": 83,
   "metadata": {},
   "outputs": [],
   "source": [
    "E4_CTD = E4_CTD[~E4_CTD['DirectEvidence'].isna()]"
   ]
  },
  {
   "cell_type": "code",
   "execution_count": 102,
   "metadata": {},
   "outputs": [],
   "source": [
    "def e4_func(chemical):\n",
    "    chemical_id = E4_chemical_names[E4_chemical_names['ChemicalName']==chemical]['ChemicalID'].values[0].split(':')[1]\n",
    "    output = E4_CTD[E4_CTD['ChemicalID']==chemical_id]\n",
    "    output = output.values.tolist()\n",
    "    output = [x for sublist in output for x in sublist]\n",
    "    output = [str(x) for x in output]\n",
    "    output = ' '.join(output)\n",
    "    return output"
   ]
  },
  {
   "cell_type": "code",
   "execution_count": 98,
   "metadata": {},
   "outputs": [
    {
     "data": {
      "text/html": [
       "<div>\n",
       "<style scoped>\n",
       "    .dataframe tbody tr th:only-of-type {\n",
       "        vertical-align: middle;\n",
       "    }\n",
       "\n",
       "    .dataframe tbody tr th {\n",
       "        vertical-align: top;\n",
       "    }\n",
       "\n",
       "    .dataframe thead th {\n",
       "        text-align: right;\n",
       "    }\n",
       "</style>\n",
       "<table border=\"1\" class=\"dataframe\">\n",
       "  <thead>\n",
       "    <tr style=\"text-align: right;\">\n",
       "      <th></th>\n",
       "      <th>DiseaseName</th>\n",
       "      <th>DiseaseID</th>\n",
       "      <th>AltDiseaseIDs</th>\n",
       "      <th>Definition</th>\n",
       "      <th>ParentIDs</th>\n",
       "      <th>TreeNumbers</th>\n",
       "      <th>ParentTreeNumbers</th>\n",
       "      <th>Synonyms</th>\n",
       "      <th>SlimMappings</th>\n",
       "    </tr>\n",
       "  </thead>\n",
       "  <tbody>\n",
       "    <tr>\n",
       "      <th>0</th>\n",
       "      <td>10p Deletion Syndrome (Partial)</td>\n",
       "      <td>MESH:C538288</td>\n",
       "      <td>NaN</td>\n",
       "      <td>NaN</td>\n",
       "      <td>MESH:D002872|MESH:D025063</td>\n",
       "      <td>C16.131.260/C538288|C16.320.180/C538288|C23.55...</td>\n",
       "      <td>C16.131.260|C16.320.180|C23.550.210.050.500.500</td>\n",
       "      <td>Chromosome 10, 10p- Partial|Chromosome 10, mon...</td>\n",
       "      <td>Congenital abnormality|Genetic disease (inborn...</td>\n",
       "    </tr>\n",
       "    <tr>\n",
       "      <th>1</th>\n",
       "      <td>13q deletion syndrome</td>\n",
       "      <td>MESH:C535484</td>\n",
       "      <td>NaN</td>\n",
       "      <td>NaN</td>\n",
       "      <td>MESH:D002872|MESH:D025063</td>\n",
       "      <td>C16.131.260/C535484|C16.320.180/C535484|C23.55...</td>\n",
       "      <td>C16.131.260|C16.320.180|C23.550.210.050.500.500</td>\n",
       "      <td>Chromosome 13q deletion|Chromosome 13q deletio...</td>\n",
       "      <td>Congenital abnormality|Genetic disease (inborn...</td>\n",
       "    </tr>\n",
       "    <tr>\n",
       "      <th>2</th>\n",
       "      <td>15q24 Microdeletion</td>\n",
       "      <td>MESH:C579849</td>\n",
       "      <td>DO:DOID:0060395</td>\n",
       "      <td>NaN</td>\n",
       "      <td>MESH:D002872|MESH:D008607|MESH:D025063</td>\n",
       "      <td>C10.597.606.360/C579849|C16.131.260/C579849|C1...</td>\n",
       "      <td>C10.597.606.360|C16.131.260|C16.320.180|C23.55...</td>\n",
       "      <td>15q24 Deletion|15q24 Microdeletion Syndrome|In...</td>\n",
       "      <td>Congenital abnormality|Genetic disease (inborn...</td>\n",
       "    </tr>\n",
       "    <tr>\n",
       "      <th>3</th>\n",
       "      <td>16p11.2 Deletion Syndrome</td>\n",
       "      <td>MESH:C579850</td>\n",
       "      <td>NaN</td>\n",
       "      <td>NaN</td>\n",
       "      <td>MESH:D001321|MESH:D002872|MESH:D008607|MESH:D0...</td>\n",
       "      <td>C10.597.606.360/C579850|C16.131.260/C579850|C1...</td>\n",
       "      <td>C10.597.606.360|C16.131.260|C16.320.180|C23.55...</td>\n",
       "      <td>NaN</td>\n",
       "      <td>Congenital abnormality|Genetic disease (inborn...</td>\n",
       "    </tr>\n",
       "    <tr>\n",
       "      <th>4</th>\n",
       "      <td>17,20-Lyase Deficiency, Isolated</td>\n",
       "      <td>MESH:C567076</td>\n",
       "      <td>NaN</td>\n",
       "      <td>NaN</td>\n",
       "      <td>MESH:D000312</td>\n",
       "      <td>C12.050.351.875.253.090.500/C567076|C12.200.70...</td>\n",
       "      <td>C12.050.351.875.253.090.500|C12.200.706.316.09...</td>\n",
       "      <td>17-Alpha-Hydroxylase-17,20-Lyase Deficiency, C...</td>\n",
       "      <td>Congenital abnormality|Endocrine system diseas...</td>\n",
       "    </tr>\n",
       "    <tr>\n",
       "      <th>...</th>\n",
       "      <td>...</td>\n",
       "      <td>...</td>\n",
       "      <td>...</td>\n",
       "      <td>...</td>\n",
       "      <td>...</td>\n",
       "      <td>...</td>\n",
       "      <td>...</td>\n",
       "      <td>...</td>\n",
       "      <td>...</td>\n",
       "    </tr>\n",
       "    <tr>\n",
       "      <th>13185</th>\n",
       "      <td>Zunich neuroectodermal syndrome</td>\n",
       "      <td>MESH:C536729</td>\n",
       "      <td>DO:DOID:0112152|OMIM:280000</td>\n",
       "      <td>NaN</td>\n",
       "      <td>MESH:D003103|MESH:D006314|MESH:D006330|MESH:D0...</td>\n",
       "      <td>C09.218.458.341.562/C536729|C10.562/C536729|C1...</td>\n",
       "      <td>C09.218.458.341.562|C10.562|C10.597.606.360|C1...</td>\n",
       "      <td>CHIME|CHIME syndrome|COLOBOMA, CONGENITAL HEAR...</td>\n",
       "      <td>Cardiovascular disease|Congenital abnormality|...</td>\n",
       "    </tr>\n",
       "    <tr>\n",
       "      <th>13186</th>\n",
       "      <td>Zuska's Disease</td>\n",
       "      <td>MESH:C536730</td>\n",
       "      <td>NaN</td>\n",
       "      <td>NaN</td>\n",
       "      <td>MESH:D000038|MESH:D001941|MESH:D005402</td>\n",
       "      <td>C01.830.025/C536730|C17.800.090/C536730|C23.30...</td>\n",
       "      <td>C01.830.025|C17.800.090|C23.300.575|C23.550.47...</td>\n",
       "      <td>Lactation and squamous metaplasia of lactifero...</td>\n",
       "      <td>Pathology (anatomical condition)|Pathology (pr...</td>\n",
       "    </tr>\n",
       "    <tr>\n",
       "      <th>13187</th>\n",
       "      <td>Zygodactyly 1</td>\n",
       "      <td>MESH:C565223</td>\n",
       "      <td>OMIM:609815</td>\n",
       "      <td>NaN</td>\n",
       "      <td>MESH:D013576</td>\n",
       "      <td>C05.116.099.370.894.819/C565223|C05.660.585.80...</td>\n",
       "      <td>C05.116.099.370.894.819|C05.660.585.800|C05.66...</td>\n",
       "      <td>ZD1</td>\n",
       "      <td>Congenital abnormality|Musculoskeletal disease</td>\n",
       "    </tr>\n",
       "    <tr>\n",
       "      <th>13188</th>\n",
       "      <td>Zygomatic Fractures</td>\n",
       "      <td>MESH:D015051</td>\n",
       "      <td>NaN</td>\n",
       "      <td>Fractures of the zygoma.</td>\n",
       "      <td>MESH:D008446|MESH:D012887</td>\n",
       "      <td>C10.900.300.284.500.950|C26.404.750.959|C26.91...</td>\n",
       "      <td>C10.900.300.284.500|C26.404.750|C26.915.300.42...</td>\n",
       "      <td>Fractures, Zygomatic|Fracture, Zygomatic|Zygom...</td>\n",
       "      <td>Nervous system disease|Wounds and injuries</td>\n",
       "    </tr>\n",
       "    <tr>\n",
       "      <th>13189</th>\n",
       "      <td>Zygomycosis</td>\n",
       "      <td>MESH:D020096</td>\n",
       "      <td>NaN</td>\n",
       "      <td>Infection in humans and animals caused by fung...</td>\n",
       "      <td>MESH:D009181</td>\n",
       "      <td>C01.150.703.980</td>\n",
       "      <td>C01.150.703</td>\n",
       "      <td>Entomophthoramycoses|Entomophthoramycosis|Phyc...</td>\n",
       "      <td>Bacterial infection or mycosis</td>\n",
       "    </tr>\n",
       "  </tbody>\n",
       "</table>\n",
       "<p>13190 rows × 9 columns</p>\n",
       "</div>"
      ],
      "text/plain": [
       "                            DiseaseName     DiseaseID  \\\n",
       "0       10p Deletion Syndrome (Partial)  MESH:C538288   \n",
       "1                 13q deletion syndrome  MESH:C535484   \n",
       "2                   15q24 Microdeletion  MESH:C579849   \n",
       "3             16p11.2 Deletion Syndrome  MESH:C579850   \n",
       "4      17,20-Lyase Deficiency, Isolated  MESH:C567076   \n",
       "...                                 ...           ...   \n",
       "13185   Zunich neuroectodermal syndrome  MESH:C536729   \n",
       "13186                   Zuska's Disease  MESH:C536730   \n",
       "13187                     Zygodactyly 1  MESH:C565223   \n",
       "13188               Zygomatic Fractures  MESH:D015051   \n",
       "13189                       Zygomycosis  MESH:D020096   \n",
       "\n",
       "                     AltDiseaseIDs  \\\n",
       "0                              NaN   \n",
       "1                              NaN   \n",
       "2                  DO:DOID:0060395   \n",
       "3                              NaN   \n",
       "4                              NaN   \n",
       "...                            ...   \n",
       "13185  DO:DOID:0112152|OMIM:280000   \n",
       "13186                          NaN   \n",
       "13187                  OMIM:609815   \n",
       "13188                          NaN   \n",
       "13189                          NaN   \n",
       "\n",
       "                                              Definition  \\\n",
       "0                                                    NaN   \n",
       "1                                                    NaN   \n",
       "2                                                    NaN   \n",
       "3                                                    NaN   \n",
       "4                                                    NaN   \n",
       "...                                                  ...   \n",
       "13185                                                NaN   \n",
       "13186                                                NaN   \n",
       "13187                                                NaN   \n",
       "13188                           Fractures of the zygoma.   \n",
       "13189  Infection in humans and animals caused by fung...   \n",
       "\n",
       "                                               ParentIDs  \\\n",
       "0                              MESH:D002872|MESH:D025063   \n",
       "1                              MESH:D002872|MESH:D025063   \n",
       "2                 MESH:D002872|MESH:D008607|MESH:D025063   \n",
       "3      MESH:D001321|MESH:D002872|MESH:D008607|MESH:D0...   \n",
       "4                                           MESH:D000312   \n",
       "...                                                  ...   \n",
       "13185  MESH:D003103|MESH:D006314|MESH:D006330|MESH:D0...   \n",
       "13186             MESH:D000038|MESH:D001941|MESH:D005402   \n",
       "13187                                       MESH:D013576   \n",
       "13188                          MESH:D008446|MESH:D012887   \n",
       "13189                                       MESH:D009181   \n",
       "\n",
       "                                             TreeNumbers  \\\n",
       "0      C16.131.260/C538288|C16.320.180/C538288|C23.55...   \n",
       "1      C16.131.260/C535484|C16.320.180/C535484|C23.55...   \n",
       "2      C10.597.606.360/C579849|C16.131.260/C579849|C1...   \n",
       "3      C10.597.606.360/C579850|C16.131.260/C579850|C1...   \n",
       "4      C12.050.351.875.253.090.500/C567076|C12.200.70...   \n",
       "...                                                  ...   \n",
       "13185  C09.218.458.341.562/C536729|C10.562/C536729|C1...   \n",
       "13186  C01.830.025/C536730|C17.800.090/C536730|C23.30...   \n",
       "13187  C05.116.099.370.894.819/C565223|C05.660.585.80...   \n",
       "13188  C10.900.300.284.500.950|C26.404.750.959|C26.91...   \n",
       "13189                                    C01.150.703.980   \n",
       "\n",
       "                                       ParentTreeNumbers  \\\n",
       "0        C16.131.260|C16.320.180|C23.550.210.050.500.500   \n",
       "1        C16.131.260|C16.320.180|C23.550.210.050.500.500   \n",
       "2      C10.597.606.360|C16.131.260|C16.320.180|C23.55...   \n",
       "3      C10.597.606.360|C16.131.260|C16.320.180|C23.55...   \n",
       "4      C12.050.351.875.253.090.500|C12.200.706.316.09...   \n",
       "...                                                  ...   \n",
       "13185  C09.218.458.341.562|C10.562|C10.597.606.360|C1...   \n",
       "13186  C01.830.025|C17.800.090|C23.300.575|C23.550.47...   \n",
       "13187  C05.116.099.370.894.819|C05.660.585.800|C05.66...   \n",
       "13188  C10.900.300.284.500|C26.404.750|C26.915.300.42...   \n",
       "13189                                        C01.150.703   \n",
       "\n",
       "                                                Synonyms  \\\n",
       "0      Chromosome 10, 10p- Partial|Chromosome 10, mon...   \n",
       "1      Chromosome 13q deletion|Chromosome 13q deletio...   \n",
       "2      15q24 Deletion|15q24 Microdeletion Syndrome|In...   \n",
       "3                                                    NaN   \n",
       "4      17-Alpha-Hydroxylase-17,20-Lyase Deficiency, C...   \n",
       "...                                                  ...   \n",
       "13185  CHIME|CHIME syndrome|COLOBOMA, CONGENITAL HEAR...   \n",
       "13186  Lactation and squamous metaplasia of lactifero...   \n",
       "13187                                                ZD1   \n",
       "13188  Fractures, Zygomatic|Fracture, Zygomatic|Zygom...   \n",
       "13189  Entomophthoramycoses|Entomophthoramycosis|Phyc...   \n",
       "\n",
       "                                            SlimMappings  \n",
       "0      Congenital abnormality|Genetic disease (inborn...  \n",
       "1      Congenital abnormality|Genetic disease (inborn...  \n",
       "2      Congenital abnormality|Genetic disease (inborn...  \n",
       "3      Congenital abnormality|Genetic disease (inborn...  \n",
       "4      Congenital abnormality|Endocrine system diseas...  \n",
       "...                                                  ...  \n",
       "13185  Cardiovascular disease|Congenital abnormality|...  \n",
       "13186  Pathology (anatomical condition)|Pathology (pr...  \n",
       "13187     Congenital abnormality|Musculoskeletal disease  \n",
       "13188         Nervous system disease|Wounds and injuries  \n",
       "13189                     Bacterial infection or mycosis  \n",
       "\n",
       "[13190 rows x 9 columns]"
      ]
     },
     "execution_count": 98,
     "metadata": {},
     "output_type": "execute_result"
    }
   ],
   "source": [
    "# added parent terms all the way to the root of the MEDIC hierarchy? add all parent ID for diseases?\n",
    "E4_disease_names"
   ]
  },
  {
   "cell_type": "markdown",
   "metadata": {},
   "source": [
    "E5: DDIs"
   ]
  },
  {
   "cell_type": "code",
   "execution_count": 104,
   "metadata": {},
   "outputs": [],
   "source": [
    "def e5_func(chemical):\n",
    "    output = drugbank_df[drugbank_df[\"dg_name\"]==chemical]['dg_interactions'].unique()\n",
    "    output = output.tolist()[0]\n",
    "    output = output.split(';')\n",
    "    output = \" \".join(output)\n",
    "    return output"
   ]
  },
  {
   "cell_type": "markdown",
   "metadata": {},
   "source": [
    "# Running"
   ]
  },
  {
   "cell_type": "code",
   "execution_count": 5,
   "metadata": {},
   "outputs": [
    {
     "name": "stderr",
     "output_type": "stream",
     "text": [
      "/var/folders/78/zn54_c9d2jb_8j8xx5s59dqw0000gn/T/ipykernel_16965/2000195596.py:4: DtypeWarning: Columns (1,5,7,9) have mixed types. Specify dtype option on import or set low_memory=False.\n",
      "  E2_chemble=pd.read_csv('../E1_Chemble_data.csv.gz',compression='gzip')\n"
     ]
    }
   ],
   "source": [
    "chemical_list = ['Acetazolamide','Acetylcholine','Adenosine']\n",
    "\n",
    "drugbank_df = pd.read_csv(\"DB/drugbank_extracted1.csv\")\n",
    "E2_chemble=pd.read_csv('../E1_Chemble_data.csv.gz',compression='gzip')\n",
    "E2_repoDB = pd.read_csv('../E2_repoDB.csv')\n",
    "E3_sider=pd.read_csv('../E3_meddra_all_label_se.tsv.gz', sep ='\\t', compression='gzip', names=['compound_id', 'UMLS_concept_id', 'method_of_detection', 'concept_name', 'MedDRA_concept_type', 'UMLS_id_for_MedDRA_term', 'MedDRA_concept_name'])\n",
    "E3_sider_name = pd.read_csv('../E3_sider_names.tsv', sep = '\\t',names=['UMLS_concept_id', 'drug_name'])\n",
    "E3_sider_atc = pd.read_csv('../E3_sider_atc.tsv', sep = '\\t', names=['UMLS_concept_id', 'atc_codes'])\n",
    "E4_CTD = pd.read_csv('../E4_CTD_chemicals_diseases.csv')\n",
    "E4_CTD = E4_CTD[~E4_CTD['DirectEvidence'].isna()]\n",
    "E4_chemical_names = pd.read_csv('../E4_CTD_chemical_names.csv')\n",
    "E4_disease_names = pd.read_csv('../E4_CTD_disease_names.csv')\n"
   ]
  },
  {
   "cell_type": "code",
   "execution_count": 107,
   "metadata": {},
   "outputs": [],
   "source": [
    "E1_result = []\n",
    "E2_result = []\n",
    "E3_result = []\n",
    "E4_result = []\n",
    "E5_result = []\n",
    "\n",
    "for x in chemical_list:\n",
    "\n",
    "    e1 = e1_func(x)\n",
    "    E1_result.append(e1)\n",
    "    e2 = e2_func(x)\n",
    "    E2_result.append(e2)\n",
    "    e3 = e3_func(x)\n",
    "    E3_result.append(e3)\n",
    "    e4 = e4_func(x)\n",
    "    E3_result.append(e4)\n",
    "    e5 = e5_func(x)\n",
    "    E3_result.append(e5)"
   ]
  }
 ],
 "metadata": {
  "kernelspec": {
   "display_name": "Python 3.10.6 ('ml-air')",
   "language": "python",
   "name": "python3"
  },
  "language_info": {
   "codemirror_mode": {
    "name": "ipython",
    "version": 3
   },
   "file_extension": ".py",
   "mimetype": "text/x-python",
   "name": "python",
   "nbconvert_exporter": "python",
   "pygments_lexer": "ipython3",
   "version": "3.10.6"
  },
  "orig_nbformat": 4,
  "vscode": {
   "interpreter": {
    "hash": "894005d3a7f9e7f90f1d225b789862a942f5be96f0c7d0676c3b66e7cb3c009e"
   }
  }
 },
 "nbformat": 4,
 "nbformat_minor": 2
}
