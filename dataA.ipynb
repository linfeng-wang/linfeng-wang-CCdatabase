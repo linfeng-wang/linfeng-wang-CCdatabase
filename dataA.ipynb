{
 "cells": [
  {
   "cell_type": "code",
   "execution_count": 10,
   "metadata": {},
   "outputs": [],
   "source": [
    "#use base environment\n",
    "import pandas as pd\n",
    "import icecream as ic\n",
    "import numpy as np\n",
    "import plotly\n",
    "import matplotlib as plt\n",
    "from rdkit import Chem\n",
    "from rdkit.Chem.Draw import IPythonConsole\n",
    "from rdkit.Chem import Draw\n",
    "# from chemicalchecker import ChemicalChecker\n",
    "# cc = ChemicalChecker()\n",
    "\n",
    "from standardiser import unsalt, neutralise,rules\n",
    "from standardiser.rules_demo import show_change\n",
    "\n",
    "import e3fp\n",
    "from e3fp.pipeline import confs_from_smiles\n",
    "\n",
    "import six\n",
    "\n",
    "import warnings\n",
    "\n",
    "import sys\n",
    "import re\n",
    "import random\n",
    " \n",
    "from ipywidgets import HTML\n",
    "\n",
    "import pandas as pd\n",
    " \n",
    "from rdkit import Chem\n",
    "from rdkit.Chem import Draw, PandasTools, AllChem\n",
    "with warnings.catch_warnings():\n",
    "    warnings.simplefilter(\"ignore\")\n",
    "    from rdkit.Chem.Draw import IPythonConsole\n",
    "IPythonConsole.molSize = (450, 200)\n",
    "PandasTools.RenderImagesInAllDataFrames()"
   ]
  },
  {
   "cell_type": "code",
   "execution_count": 8,
   "metadata": {},
   "outputs": [],
   "source": [
    "#import setting from Standardizer\n",
    "from __future__  import print_function, division, absolute_import\n",
    "\n",
    "import six\n",
    "\n",
    "import warnings\n",
    "\n",
    "import sys\n",
    "import re\n",
    "import random\n",
    " \n",
    "from ipywidgets import HTML\n",
    "\n",
    "import pandas as pd\n",
    " \n",
    "from rdkit import Chem\n",
    "from rdkit.Chem import Draw, PandasTools, AllChem\n",
    "with warnings.catch_warnings():\n",
    "    warnings.simplefilter(\"ignore\")\n",
    "    from rdkit.Chem.Draw import IPythonConsole\n",
    "IPythonConsole.molSize = (450, 200)\n",
    "PandasTools.RenderImagesInAllDataFrames()\n",
    "\n",
    "from qed import qed"
   ]
  },
  {
   "cell_type": "code",
   "execution_count": 6,
   "metadata": {},
   "outputs": [
    {
     "data": {
      "image/png": "[encoded data removed]",
      "text/plain": [
       "<rdkit.Chem.rdchem.Mol at 0x13f52ece0>"
      ]
     },
     "execution_count": 6,
     "metadata": {},
     "output_type": "execute_result"
    }
   ],
   "source": [
    "Acetazolamide = \"CC(=O)NC1=NN=C(S1)S(=O)(=O)N\"\n",
    "mol = Chem.MolFromSmiles(Acetazolamide)\n",
    "\n",
    "# Default\n",
    "mol"
   ]
  },
  {
   "cell_type": "markdown",
   "metadata": {},
   "source": [
    "https://chemicalchecker.org/explore/BZKPWHYZMXOIDC-UHFFFAOYSA-N"
   ]
  },
  {
   "cell_type": "code",
   "execution_count": 9,
   "metadata": {},
   "outputs": [
    {
     "ename": "TypeError",
     "evalue": "unsupported operand type(s) for -: '_vectNSt3__16vectorIiNS_9allocatorIiEEEE' and 'float'",
     "output_type": "error",
     "traceback": [
      "\u001b[0;31m---------------------------------------------------------------------------\u001b[0m",
      "\u001b[0;31mTypeError\u001b[0m                                 Traceback (most recent call last)",
      "Cell \u001b[0;32mIn [9], line 1\u001b[0m\n\u001b[0;32m----> 1\u001b[0m qed\u001b[39m.\u001b[39mdefault(mol)\n",
      "File \u001b[0;32m~/opt/anaconda3/envs/ml-air/lib/python3.10/site-packages/qed/qed.py:269\u001b[0m, in \u001b[0;36mdefault\u001b[0;34m(mol, gerebtzoff)\u001b[0m\n\u001b[1;32m    265\u001b[0m \u001b[39mdef\u001b[39;00m \u001b[39mdefault\u001b[39m(mol, gerebtzoff \u001b[39m=\u001b[39m \u001b[39mTrue\u001b[39;00m):\n\u001b[1;32m    266\u001b[0m \t\u001b[39m\"\"\"\u001b[39;00m\n\u001b[1;32m    267\u001b[0m \u001b[39m\tCalculates the QED descriptor using average descriptor weights and Gregory Gerebtzoff parameters.\u001b[39;00m\n\u001b[1;32m    268\u001b[0m \u001b[39m\t\"\"\"\u001b[39;00m\n\u001b[0;32m--> 269\u001b[0m \t\u001b[39mreturn\u001b[39;00m weights_mean(mol, gerebtzoff)\n",
      "File \u001b[0;32m~/opt/anaconda3/envs/ml-air/lib/python3.10/site-packages/qed/qed.py:252\u001b[0m, in \u001b[0;36mweights_mean\u001b[0;34m(mol, gerebtzoff)\u001b[0m\n\u001b[1;32m    248\u001b[0m \u001b[39m\"\"\"\u001b[39;00m\n\u001b[1;32m    249\u001b[0m \u001b[39mCalculates the QED descriptor using average descriptor weights.\u001b[39;00m\n\u001b[1;32m    250\u001b[0m \u001b[39m\"\"\"\u001b[39;00m\n\u001b[1;32m    251\u001b[0m props \u001b[39m=\u001b[39m properties(mol)\n\u001b[0;32m--> 252\u001b[0m \u001b[39mreturn\u001b[39;00m qed([\u001b[39m0.66\u001b[39;49m, \u001b[39m0.46\u001b[39;49m, \u001b[39m0.05\u001b[39;49m, \u001b[39m0.61\u001b[39;49m, \u001b[39m0.06\u001b[39;49m, \u001b[39m0.65\u001b[39;49m, \u001b[39m0.48\u001b[39;49m, \u001b[39m0.95\u001b[39;49m], props, gerebtzoff)\n",
      "File \u001b[0;32m~/opt/anaconda3/envs/ml-air/lib/python3.10/site-packages/qed/qed.py:227\u001b[0m, in \u001b[0;36mqed\u001b[0;34m(w, p, gerebtzoff)\u001b[0m\n\u001b[1;32m    225\u001b[0m \u001b[39mif\u001b[39;00m (gerebtzoff):\n\u001b[1;32m    226\u001b[0m \t\u001b[39mfor\u001b[39;00m i \u001b[39min\u001b[39;00m \u001b[39mrange\u001b[39m(\u001b[39m0\u001b[39m, \u001b[39m8\u001b[39m):\n\u001b[0;32m--> 227\u001b[0m \t\td[i] \u001b[39m=\u001b[39m ads(p[i], pads1[i][\u001b[39m0\u001b[39;49m], pads1[i][\u001b[39m1\u001b[39;49m], pads1[i][\u001b[39m2\u001b[39;49m], pads1[i][\u001b[39m3\u001b[39;49m], pads1[i][\u001b[39m4\u001b[39;49m], pads1[i][\u001b[39m5\u001b[39;49m], pads1[i][\u001b[39m6\u001b[39;49m])\n\u001b[1;32m    228\u001b[0m \u001b[39melse\u001b[39;00m:\n\u001b[1;32m    229\u001b[0m \t\u001b[39mfor\u001b[39;00m i \u001b[39min\u001b[39;00m \u001b[39mrange\u001b[39m(\u001b[39m0\u001b[39m, \u001b[39m8\u001b[39m):\n",
      "File \u001b[0;32m~/opt/anaconda3/envs/ml-air/lib/python3.10/site-packages/qed/qed.py:194\u001b[0m, in \u001b[0;36mads\u001b[0;34m(x, a, b, c, d, e, f, dmax)\u001b[0m\n\u001b[1;32m    193\u001b[0m \u001b[39mdef\u001b[39;00m \u001b[39mads\u001b[39m(x, a, b, c, d, e, f, dmax):\n\u001b[0;32m--> 194\u001b[0m \t\u001b[39mreturn\u001b[39;00m ((a\u001b[39m+\u001b[39m(b\u001b[39m/\u001b[39m(\u001b[39m1\u001b[39m\u001b[39m+\u001b[39mexp(\u001b[39m-\u001b[39m\u001b[39m1\u001b[39m\u001b[39m*\u001b[39m(x\u001b[39m-\u001b[39;49mc\u001b[39m+\u001b[39md\u001b[39m/\u001b[39m\u001b[39m2\u001b[39m)\u001b[39m/\u001b[39me))\u001b[39m*\u001b[39m(\u001b[39m1\u001b[39m\u001b[39m-\u001b[39m\u001b[39m1\u001b[39m\u001b[39m/\u001b[39m(\u001b[39m1\u001b[39m\u001b[39m+\u001b[39mexp(\u001b[39m-\u001b[39m\u001b[39m1\u001b[39m\u001b[39m*\u001b[39m(x\u001b[39m-\u001b[39mc\u001b[39m-\u001b[39md\u001b[39m/\u001b[39m\u001b[39m2\u001b[39m)\u001b[39m/\u001b[39mf))))) \u001b[39m/\u001b[39m dmax)\n",
      "\u001b[0;31mTypeError\u001b[0m: unsupported operand type(s) for -: '_vectNSt3__16vectorIiNS_9allocatorIiEEEE' and 'float'"
     ]
    }
   ],
   "source": [
    "qed.default(mol)"
   ]
  },
  {
   "cell_type": "code",
   "execution_count": 6,
   "metadata": {},
   "outputs": [
    {
     "data": {
      "text/plain": [
       "0.44619898311523704"
      ]
     },
     "execution_count": 6,
     "metadata": {},
     "output_type": "execute_result"
    }
   ],
   "source": [
    "from qed import qed\n",
    "from rdkit import Chem\n",
    "m = Chem.MolFromSmiles('c1ccccc1')\n",
    "qed.default(m)"
   ]
  },
  {
   "cell_type": "code",
   "execution_count": 7,
   "metadata": {},
   "outputs": [
    {
     "data": {
      "text/plain": [
       "<module 'qed.qed' from '/Users/linfengwang/opt/anaconda3/lib/python3.8/site-packages/qed/qed.py'>"
      ]
     },
     "execution_count": 7,
     "metadata": {},
     "output_type": "execute_result"
    }
   ],
   "source": [
    "qed"
   ]
  },
  {
   "cell_type": "markdown",
   "metadata": {},
   "source": [
    "Standardization"
   ]
  },
  {
   "cell_type": "code",
   "execution_count": 3,
   "metadata": {},
   "outputs": [
    {
     "ename": "NameError",
     "evalue": "name 'mol' is not defined",
     "output_type": "error",
     "traceback": [
      "\u001b[0;31m---------------------------------------------------------------------------\u001b[0m",
      "\u001b[0;31mNameError\u001b[0m                                 Traceback (most recent call last)",
      "\u001b[0;32m<ipython-input-3-55316f0350e1>\u001b[0m in \u001b[0;36m<module>\u001b[0;34m\u001b[0m\n\u001b[1;32m      4\u001b[0m \u001b[0mnon_salt_frags\u001b[0m \u001b[0;34m=\u001b[0m \u001b[0;34m[\u001b[0m\u001b[0;34m]\u001b[0m\u001b[0;34m\u001b[0m\u001b[0;34m\u001b[0m\u001b[0m\n\u001b[1;32m      5\u001b[0m \u001b[0;34m\u001b[0m\u001b[0m\n\u001b[0;32m----> 6\u001b[0;31m \u001b[0;32mfor\u001b[0m \u001b[0mfrag\u001b[0m \u001b[0;32min\u001b[0m \u001b[0mChem\u001b[0m\u001b[0;34m.\u001b[0m\u001b[0mGetMolFrags\u001b[0m\u001b[0;34m(\u001b[0m\u001b[0mmol\u001b[0m\u001b[0;34m,\u001b[0m \u001b[0masMols\u001b[0m\u001b[0;34m=\u001b[0m\u001b[0;32mTrue\u001b[0m\u001b[0;34m)\u001b[0m\u001b[0;34m:\u001b[0m\u001b[0;34m\u001b[0m\u001b[0;34m\u001b[0m\u001b[0m\n\u001b[0m\u001b[1;32m      7\u001b[0m     \u001b[0;32mif\u001b[0m \u001b[0munsalt\u001b[0m\u001b[0;34m.\u001b[0m\u001b[0mis_nonorganic\u001b[0m\u001b[0;34m(\u001b[0m\u001b[0mfrag\u001b[0m\u001b[0;34m)\u001b[0m\u001b[0;34m:\u001b[0m \u001b[0;32mcontinue\u001b[0m \u001b[0;31m# Looks for any 'non-organic' element\u001b[0m\u001b[0;34m\u001b[0m\u001b[0;34m\u001b[0m\u001b[0m\n\u001b[1;32m      8\u001b[0m     \u001b[0;32mif\u001b[0m \u001b[0munsalt\u001b[0m\u001b[0;34m.\u001b[0m\u001b[0mis_salt\u001b[0m\u001b[0;34m(\u001b[0m\u001b[0mfrag\u001b[0m\u001b[0;34m)\u001b[0m\u001b[0;34m:\u001b[0m \u001b[0;32mcontinue\u001b[0m       \u001b[0;31m# Uses salt dictionary\u001b[0m\u001b[0;34m\u001b[0m\u001b[0;34m\u001b[0m\u001b[0m\n",
      "\u001b[0;31mNameError\u001b[0m: name 'mol' is not defined"
     ]
    }
   ],
   "source": [
    "#Using standardizer (https://github. com/flatkinson/standardiser)\n",
    "#unsalt\n",
    "# The unsalt module identifies counterions and solvate components, such that they can be removed. It does not do the removal itself, as each component is put through the whole standardization pipeline before counterions and/or solvate components are identified. Note that any component containing an non-organic element is removed before the standardization pipeline is applied.\n",
    "non_salt_frags = []\n",
    "\n",
    "for frag in Chem.GetMolFrags(mol, asMols=True):\n",
    "    if unsalt.is_nonorganic(frag): continue # Looks for any 'non-organic' element\n",
    "    if unsalt.is_salt(frag): continue       # Uses salt dictionary\n",
    "    non_salt_frags.append(frag)\n",
    "    \n",
    "Draw.MolsToGridImage(non_salt_frags)\n",
    "\n",
    "#neuralise\n",
    "# This document describes the operation of the neutralize module, which attempts to balance charges via the removal and/or addition of protons.\n",
    "mol = neutralise.run(non_salt_frags[0])\n",
    "\n",
    "#Tautemers\n",
    "# Tautomers are isomers of a molecule that exist in solution or in a cell. They are interchangeable forms because chemical bonds are rearranged many times spontaneously. \n",
    "# rules.logger.setLevel('DEBUG')\n",
    "# rules.add_rule_set('tautomerism_and_aromaticity')\n",
    "# HTML(show_change(mol))\n",
    "# print(mol)"
   ]
  },
  {
   "cell_type": "code",
   "execution_count": 27,
   "metadata": {},
   "outputs": [
    {
     "name": "stdout",
     "output_type": "stream",
     "text": [
      "BZKPWHYZMXOIDC-UHFFFAOYSA-N\n"
     ]
    }
   ],
   "source": [
    "#outputing Inchikey after standardization\n",
    "from rdkit.Chem import inchi\n",
    "inchikey = inchi.MolToInchiKey(mol)\n",
    "print(inchikey)"
   ]
  },
  {
   "cell_type": "code",
   "execution_count": null,
   "metadata": {},
   "outputs": [],
   "source": [
    "Chem.MolFromSmiles"
   ]
  },
  {
   "cell_type": "markdown",
   "metadata": {},
   "source": [
    "A1: 2D fingerprints"
   ]
  },
  {
   "cell_type": "code",
   "execution_count": 36,
   "metadata": {},
   "outputs": [
    {
     "data": {
      "text/plain": [
       "{43357009: ((1, 2),),\n",
       " 411967733: ((1, 1),),\n",
       " 437064736: ((5, 2),),\n",
       " 464516944: ((8, 2),),\n",
       " 847957139: ((12, 0),),\n",
       " 847961216: ((3, 0),),\n",
       " 864942730: ((2, 0), (10, 0), (11, 0)),\n",
       " 999334238: ((9, 0),),\n",
       " 1510328189: ((2, 1),),\n",
       " 1790668568: ((3, 1),),\n",
       " 1791271074: ((8, 1),),\n",
       " 2041434490: ((5, 0), (6, 0)),\n",
       " 2228063684: ((10, 1), (11, 1)),\n",
       " 2246699815: ((1, 0),),\n",
       " 2246728737: ((0, 0),),\n",
       " 2829782699: ((4, 2),),\n",
       " 2962271204: ((6, 2),),\n",
       " 3058108901: ((7, 1),),\n",
       " 3113855204: ((3, 2),),\n",
       " 3217380708: ((4, 0), (7, 0)),\n",
       " 3275683399: ((12, 1),),\n",
       " 3351556771: ((8, 0),),\n",
       " 3458774156: ((5, 1), (6, 1)),\n",
       " 3462308225: ((4, 1),),\n",
       " 3532053313: ((9, 1),),\n",
       " 3545365497: ((0, 1),),\n",
       " 3568423283: ((9, 2),),\n",
       " 3888968293: ((7, 2),)}"
      ]
     },
     "execution_count": 36,
     "metadata": {},
     "output_type": "execute_result"
    }
   ],
   "source": [
    "#morgan finger print with radius of 2\n",
    "# The Morgan fingerprint is basically a reimplementation of the extended conectivity fingerprint (ECFP). \n",
    "# 5)Extended-connectivity fingerprints (ECFPs) are a recently developed fingerprint methodology explicitly designed to capture molecular features relevant to molecular activity.\n",
    "info = {}\n",
    "morgan_fp = AllChem.GetMorganFingerprint(mol,2,bitInfo=info)\n",
    "# print(morgan_fp)\n",
    "len(morgan_fp.GetNonzeroElements())\n",
    "info\n",
    "# Information is available about the atoms that contribute to particular bits in the Morgan fingerprint via the bitInfo argument. The dictionary provided is populated with one entry per bit set in the fingerprint, the keys are the bit ids, the values are lists of (atom index, radius) tuples."
   ]
  },
  {
   "cell_type": "markdown",
   "metadata": {},
   "source": [
    "A2: 3D fingerprints"
   ]
  },
  {
   "cell_type": "code",
   "execution_count": 30,
   "metadata": {},
   "outputs": [
    {
     "name": "stderr",
     "output_type": "stream",
     "text": [
      "2022-10-15 16:14:20,760|INFO|Generating conformers for Acetazolamide.\n",
      "2022-10-15 16:14:21,077|INFO|Generated 3 conformers for Acetazolamide.\n",
      "2022-10-15 16:14:21,078|INFO|Generating fingerprints for Acetazolamide.\n",
      "2022-10-15 16:14:21,207|INFO|Generated 3 fingerprints for Acetazolamide.\n"
     ]
    },
    {
     "name": "stdout",
     "output_type": "stream",
     "text": [
      "[Fingerprint(indices=array([12, 98, 149, 188, 309, 328, 334, 396, 473, 549, 561, 565, 600, 620, 637, 652, 666, 709, 763, 778, 797, 837, 847, 864, 876, 909, 1017]), level=5, bits=1024, name=Acetazolamide_0), Fingerprint(indices=array([12, 98, 113, 188, 274, 309, 328, 334, 396, 405, 473, 507, 549, 561, 565, 600, 620, 637, 652, 666, 709, 763, 778, 797, 876, 882, 909]), level=5, bits=1024, name=Acetazolamide_1), Fingerprint(indices=array([12, 26, 30, 94, 98, 149, 187, 188, 309, 334, 473, 560, 561, 565, 600, 637, 652, 666, 672, 709, 763, 771, 778, 797, 837, 847, 876, 909]), level=5, bits=1024, name=Acetazolamide_2)]\n"
     ]
    }
   ],
   "source": [
    "#3D fingerprints. The 1,024-bit E3FP fingerprints \n",
    "# 3D molecular fingerprinting method inspired by Extended Connectivity FingerPrints (ECFP) 2, integrating tightly with the RDKit\n",
    "from e3fp.config.params import read_params\n",
    "from e3fp.pipeline import fprints_from_mol\n",
    "\n",
    "config = read_params(\"e3fp/new_params.cfg\")\n",
    "\n",
    "confgen_params = {'max_energy_diff': 20.0, 'first': 3}\n",
    "fprint_params = {'bits': 1024, 'radius_multiplier': 2, 'rdkit_invariants': True}\n",
    "\n",
    "conformer = confs_from_smiles(Acetazolamide, \"Acetazolamide\", confgen_params=confgen_params)\n",
    "# conformer.GetNumConformers()\n",
    "\n",
    "fprints = fprints_from_mol(conformer, fprint_params=fprint_params)\n",
    "print(fprints)"
   ]
  },
  {
   "cell_type": "markdown",
   "metadata": {},
   "source": [
    "A3: scaffolds"
   ]
  },
  {
   "cell_type": "code",
   "execution_count": 31,
   "metadata": {},
   "outputs": [
    {
     "name": "stdout",
     "output_type": "stream",
     "text": [
      "<img data-content=\"rdkit/molecule\" src=\"data:image/png;base64,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\" alt=\"Mol\"/>\n"
     ]
    }
   ],
   "source": [
    "#Murcko’s scaffold\n",
    "# This method employs a more systematical way to dissect a molecule into four parts: ring systems, linkers, side chains, and the Murcko framework that is the union of ring systems and linkers in a molecule.\n",
    "from rdkit.Chem.Scaffolds.MurckoScaffold import GetScaffoldForMol,MakeScaffoldGeneric\n",
    "\n",
    "Mscaffold = Chem.MolToSmiles(GetScaffoldForMol(mol))\n",
    "# Chem.MolToSmiles(Mscaffold)\n",
    "#molecular framework\n",
    "mol_Mscaffold = Chem.MolFromSmiles(Mscaffold)\n",
    "fw = MakeScaffoldGeneric(mol)\n",
    "print(fw)"
   ]
  },
  {
   "cell_type": "markdown",
   "metadata": {},
   "source": [
    "A4: structural keys"
   ]
  },
  {
   "cell_type": "code",
   "execution_count": 32,
   "metadata": {},
   "outputs": [
    {
     "name": "stdout",
     "output_type": "stream",
     "text": [
      "<rdkit.DataStructs.cDataStructs.ExplicitBitVect object at 0x7ff0b101b3a0>\n"
     ]
    }
   ],
   "source": [
    "from rdkit.Chem import MACCSkeys\n",
    "from rdkit import DataStructs\n",
    "# MACCS keys are used to compute molecular similarity for computational drug design and database matching. This function follows the RDKit implementation of the 166-bit MACCS keys.\n",
    "fps = MACCSkeys.GenMACCSKeys(mol)\n",
    "print(fps)"
   ]
  },
  {
   "cell_type": "markdown",
   "metadata": {},
   "source": [
    "A5: physicochemical parameters"
   ]
  },
  {
   "cell_type": "code",
   "execution_count": 41,
   "metadata": {},
   "outputs": [
    {
     "name": "stdout",
     "output_type": "stream",
     "text": [
      "mw\n",
      "221.988132052\n",
      "====================\n",
      "nHeavy\n",
      "13\n",
      "====================\n",
      "nHetero\n",
      "9\n",
      "====================\n",
      "nRing\n",
      "1\n",
      "====================\n",
      "nAliphatic\n",
      "0\n",
      "====================\n",
      "nAromatic\n",
      "1\n",
      "====================\n",
      "nHBA\n",
      "6\n",
      "====================\n",
      "nBond\n",
      "2\n",
      "====================\n",
      "nHBD\n",
      "2\n",
      "====================\n",
      "nRotatable\n",
      "2\n",
      "====================\n",
      "logP\n",
      "-0.8561000000000003\n",
      "====================\n",
      "psurface\n",
      "115.04\n",
      "====================\n",
      "structural alert\n",
      "False\n",
      "====================\n",
      "r5\n",
      "False\n",
      "====================\n",
      "r3\n",
      "False\n",
      "====================\n",
      "QED\n",
      "0.6708401455830934\n",
      "====================\n"
     ]
    }
   ],
   "source": [
    "from rdkit.Chem import Descriptors, rdMolDescriptors, rdchem, Crippen,Lipinski\n",
    "from rdkit.Chem.rdchem import StereoType\n",
    "#molecular weight, \n",
    "mw = Descriptors.ExactMolWt(mol)\n",
    "print(\"mw\")\n",
    "print(mw)\n",
    "print(\"=\"*20)\n",
    "# number of heavy atoms\n",
    "nHeavy = rdMolDescriptors.CalcNumHeavyAtoms(mol)\n",
    "print(\"nHeavy\")\n",
    "\n",
    "print(nHeavy)\n",
    "print(\"=\"*20)\n",
    "\n",
    "# number of heteroatoms\n",
    "nHetero = rdMolDescriptors.CalcNumHeteroatoms(mol) \n",
    "print(\"nHetero\")\n",
    "\n",
    "print(nHetero)\n",
    "print(\"=\"*20)\n",
    "\n",
    "# number of rings\n",
    "nRing = rdMolDescriptors.CalcNumRings(mol) \n",
    "print(\"nRing\")\n",
    "\n",
    "print(nRing)\n",
    "print(\"=\"*20)\n",
    "\n",
    "# number of aliphatic rings \n",
    "nAliphatic = rdMolDescriptors.CalcNumAliphaticRings(mol)\n",
    "print(\"nAliphatic\")\n",
    "print(nAliphatic)\n",
    "print(\"=\"*20)\n",
    "\n",
    "# number of aromatic rings\n",
    "\n",
    "nAromatic = rdMolDescriptors.CalcNumAromaticRings(mol)\n",
    "print(\"nAromatic\")\n",
    "print(nAromatic)\n",
    "print(\"=\"*20)\n",
    "\n",
    "# number of hydrogen bond acceptors\n",
    "nHBA = rdMolDescriptors.CalcNumHBA(mol)\n",
    "print(\"nHBA\")\n",
    "print(nHBA)\n",
    "print(\"=\"*20)\n",
    "\n",
    "#! GetNumBonds\n",
    "#nAliphatic = rdchem.GetBonds(mol)\n",
    "# double = StereoType.Bond_Double(mol)\n",
    "rotatable = Lipinski.NumRotatableBonds(mol)\n",
    "nBond =rotatable #+ double \n",
    "print(\"nBond\")\n",
    "print(nBond)\n",
    "print(\"=\"*20)\n",
    "\n",
    "# number of hydrogen bond donors \n",
    "nHBD = rdMolDescriptors.CalcNumHBD(mol)\n",
    "print(\"nHBD\")\n",
    "print(nHBD)\n",
    "print(\"=\"*20)\n",
    "\n",
    "# number of rotatable bonds\n",
    "nRotatable = rdMolDescriptors.CalcNumRotatableBonds(mol)\n",
    "print(\"nRotatable\")\n",
    "print(nRotatable)\n",
    "print(\"=\"*20)\n",
    "\n",
    "# logP\n",
    "logP = Crippen.MolLogP(mol)\n",
    "print(\"logP\")\n",
    "print(logP)\n",
    "print(\"=\"*20)\n",
    "\n",
    "#! molecular refractivity\n",
    "\n",
    "# polar surface area\n",
    "\n",
    "psurface = rdMolDescriptors.CalcTPSA(mol)\n",
    "print(\"psurface\")\n",
    "print(psurface)\n",
    "print(\"=\"*20)\n",
    "\n",
    "#Structural alert\n",
    "# Parts of organic molecules which are believed to be responsible for adverse effects (e.g. genotoxicity) and can be used to predict the toxicity of similar compounds.\n",
    "def chemicalAlert(query):\n",
    "    alert_df = pd.read_csv(\"DB/alert_collection.csv\")\n",
    "    for x in alert_df['smarts']:\n",
    "        if x in query:\n",
    "            return True\n",
    "        else:\n",
    "            return False \n",
    "\n",
    "alert = chemicalAlert(Acetazolamide)\n",
    "print(\"structural alert\")\n",
    "print(alert)\n",
    "\n",
    "print(\"=\"*20)\n",
    "#Lipinski’s rule-of-five violations\n",
    "# Molecular weight <= 500\n",
    "# LogP <= 5\n",
    "# H-bond donor count <= 5\n",
    "# H-bond acceptor count <= 10\n",
    "rule_of_five = [mw <= 500,logP <= 5,nHBD <=5,nHBA <=5]\n",
    "r5 = all(item is True for item in rule_of_five)\n",
    "print(\"r5\")\n",
    "print(r5)\n",
    "print(\"=\"*20)\n",
    "\n",
    "#rule-of-three violations\n",
    "# molecular weight of a fragment is <300\n",
    "# the v is ≤3\n",
    "# the number of hydrogen bond donors is ≤3\n",
    "# the number of hydrogen bond acceptors is ≤3.\n",
    "rule_of_three = [mw <= 300,logP <= 3,nHBD <=3,nHBA <=3]\n",
    "r3 = all(item is True for item in rule_of_three)\n",
    "print(\"r3\")\n",
    "print(r3)\n",
    "print(\"=\"*20)\n",
    "\n",
    "#chemical beauty (QED)\n",
    "from qed import qed\n",
    "QED = qed.weights_max(mol)\n",
    "print(\"QED\")\n",
    "print(QED)\n",
    "print(\"=\"*20)\n"
   ]
  },
  {
   "cell_type": "code",
   "execution_count": 7,
   "metadata": {},
   "outputs": [
    {
     "ename": "TypeError",
     "evalue": "unsupported operand type(s) for -: '_vectNSt3__16vectorIiNS_9allocatorIiEEEE' and 'float'",
     "output_type": "error",
     "traceback": [
      "\u001b[0;31m---------------------------------------------------------------------------\u001b[0m",
      "\u001b[0;31mTypeError\u001b[0m                                 Traceback (most recent call last)",
      "Cell \u001b[0;32mIn [7], line 2\u001b[0m\n\u001b[1;32m      1\u001b[0m \u001b[39mfrom\u001b[39;00m \u001b[39mqed\u001b[39;00m \u001b[39mimport\u001b[39;00m qed\n\u001b[0;32m----> 2\u001b[0m QED \u001b[39m=\u001b[39m qed\u001b[39m.\u001b[39mweights_max(mol)\n",
      "File \u001b[0;32m~/opt/anaconda3/envs/ml-air/lib/python3.10/site-packages/qed/qed.py:243\u001b[0m, in \u001b[0;36mweights_max\u001b[0;34m(mol, gerebtzoff)\u001b[0m\n\u001b[1;32m    239\u001b[0m \u001b[39m\"\"\"\u001b[39;00m\n\u001b[1;32m    240\u001b[0m \u001b[39mCalculates the QED descriptor using maximal descriptor weights.\u001b[39;00m\n\u001b[1;32m    241\u001b[0m \u001b[39m\"\"\"\u001b[39;00m\n\u001b[1;32m    242\u001b[0m props \u001b[39m=\u001b[39m properties(mol)\n\u001b[0;32m--> 243\u001b[0m \u001b[39mreturn\u001b[39;00m qed([\u001b[39m0.50\u001b[39;49m, \u001b[39m0.25\u001b[39;49m, \u001b[39m0.00\u001b[39;49m, \u001b[39m0.50\u001b[39;49m, \u001b[39m0.00\u001b[39;49m, \u001b[39m0.50\u001b[39;49m, \u001b[39m0.25\u001b[39;49m, \u001b[39m1.00\u001b[39;49m], props, gerebtzoff)\n",
      "File \u001b[0;32m~/opt/anaconda3/envs/ml-air/lib/python3.10/site-packages/qed/qed.py:227\u001b[0m, in \u001b[0;36mqed\u001b[0;34m(w, p, gerebtzoff)\u001b[0m\n\u001b[1;32m    225\u001b[0m \u001b[39mif\u001b[39;00m (gerebtzoff):\n\u001b[1;32m    226\u001b[0m \t\u001b[39mfor\u001b[39;00m i \u001b[39min\u001b[39;00m \u001b[39mrange\u001b[39m(\u001b[39m0\u001b[39m, \u001b[39m8\u001b[39m):\n\u001b[0;32m--> 227\u001b[0m \t\td[i] \u001b[39m=\u001b[39m ads(p[i], pads1[i][\u001b[39m0\u001b[39;49m], pads1[i][\u001b[39m1\u001b[39;49m], pads1[i][\u001b[39m2\u001b[39;49m], pads1[i][\u001b[39m3\u001b[39;49m], pads1[i][\u001b[39m4\u001b[39;49m], pads1[i][\u001b[39m5\u001b[39;49m], pads1[i][\u001b[39m6\u001b[39;49m])\n\u001b[1;32m    228\u001b[0m \u001b[39melse\u001b[39;00m:\n\u001b[1;32m    229\u001b[0m \t\u001b[39mfor\u001b[39;00m i \u001b[39min\u001b[39;00m \u001b[39mrange\u001b[39m(\u001b[39m0\u001b[39m, \u001b[39m8\u001b[39m):\n",
      "File \u001b[0;32m~/opt/anaconda3/envs/ml-air/lib/python3.10/site-packages/qed/qed.py:194\u001b[0m, in \u001b[0;36mads\u001b[0;34m(x, a, b, c, d, e, f, dmax)\u001b[0m\n\u001b[1;32m    193\u001b[0m \u001b[39mdef\u001b[39;00m \u001b[39mads\u001b[39m(x, a, b, c, d, e, f, dmax):\n\u001b[0;32m--> 194\u001b[0m \t\u001b[39mreturn\u001b[39;00m ((a\u001b[39m+\u001b[39m(b\u001b[39m/\u001b[39m(\u001b[39m1\u001b[39m\u001b[39m+\u001b[39mexp(\u001b[39m-\u001b[39m\u001b[39m1\u001b[39m\u001b[39m*\u001b[39m(x\u001b[39m-\u001b[39;49mc\u001b[39m+\u001b[39md\u001b[39m/\u001b[39m\u001b[39m2\u001b[39m)\u001b[39m/\u001b[39me))\u001b[39m*\u001b[39m(\u001b[39m1\u001b[39m\u001b[39m-\u001b[39m\u001b[39m1\u001b[39m\u001b[39m/\u001b[39m(\u001b[39m1\u001b[39m\u001b[39m+\u001b[39mexp(\u001b[39m-\u001b[39m\u001b[39m1\u001b[39m\u001b[39m*\u001b[39m(x\u001b[39m-\u001b[39mc\u001b[39m-\u001b[39md\u001b[39m/\u001b[39m\u001b[39m2\u001b[39m)\u001b[39m/\u001b[39mf))))) \u001b[39m/\u001b[39m dmax)\n",
      "\u001b[0;31mTypeError\u001b[0m: unsupported operand type(s) for -: '_vectNSt3__16vectorIiNS_9allocatorIiEEEE' and 'float'"
     ]
    }
   ],
   "source": [
    "from qed import qed\n",
    "QED = qed.weights_max(mol)"
   ]
  },
  {
   "cell_type": "code",
   "execution_count": null,
   "metadata": {},
   "outputs": [],
   "source": []
  }
 ],
 "metadata": {
  "kernelspec": {
   "display_name": "Python 3.8.8 ('base')",
   "language": "python",
   "name": "python3"
  },
  "language_info": {
   "codemirror_mode": {
    "name": "ipython",
    "version": 3
   },
   "file_extension": ".py",
   "mimetype": "text/x-python",
   "name": "python",
   "nbconvert_exporter": "python",
   "pygments_lexer": "ipython3",
   "version": "3.8.8"
  },
  "orig_nbformat": 4,
  "vscode": {
   "interpreter": {
    "hash": "719e960f3f54c5ee92607b93109f40b81b93851334e04c87abf94713bfb801f5"
   }
  }
 },
 "nbformat": 4,
 "nbformat_minor": 2
}
