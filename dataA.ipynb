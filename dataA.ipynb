{
 "cells": [
  {
   "cell_type": "code",
   "execution_count": 1,
   "metadata": {},
   "outputs": [],
   "source": [
    "import pandas as pd\n",
    "import icecream as ic\n",
    "import numpy as np\n",
    "import plotly\n",
    "import matplotlib as plt\n",
    "from rdkit import Chem\n",
    "from rdkit.Chem.Draw import IPythonConsole\n",
    "from rdkit.Chem import Draw\n",
    "# from chemicalchecker import ChemicalChecker\n",
    "# cc = ChemicalChecker()\n",
    "from standardiser import unsalt, neutralise\n",
    "import e3fp\n",
    "from e3fp.pipeline import confs_from_smiles\n",
    "\n",
    "\n",
    "import six\n",
    "\n",
    "import warnings\n",
    "\n",
    "import sys\n",
    "import re\n",
    "import random\n",
    " \n",
    "from ipywidgets import HTML\n",
    "\n",
    "import pandas as pd\n",
    " \n",
    "from rdkit import Chem\n",
    "from rdkit.Chem import Draw, PandasTools, AllChem\n",
    "with warnings.catch_warnings():\n",
    "    warnings.simplefilter(\"ignore\")\n",
    "    from rdkit.Chem.Draw import IPythonConsole\n",
    "IPythonConsole.molSize = (450, 200)\n",
    "PandasTools.RenderImagesInAllDataFrames()"
   ]
  },
  {
   "cell_type": "code",
   "execution_count": 2,
   "metadata": {},
   "outputs": [
    {
     "data": {
      "image/png": "[encoded data removed]",
      "text/plain": [
       "<rdkit.Chem.rdchem.Mol at 0x7fd3086e3760>"
      ]
     },
     "execution_count": 2,
     "metadata": {},
     "output_type": "execute_result"
    }
   ],
   "source": [
    "Acetazolamide = \"CC(=O)NC1=NN=C(S1)S(=O)(=O)N\"\n",
    "mol = Chem.MolFromSmiles(\"C1CC2=C3C(=CC=C2)C(=CN3C1)[C@H]4[C@@H](C(=O)NC4=O)C5=CNC6=CC=CC=C65\")\n",
    "# Default\n",
    "mol"
   ]
  },
  {
   "cell_type": "markdown",
   "metadata": {},
   "source": [
    "https://chemicalchecker.org/explore/BZKPWHYZMXOIDC-UHFFFAOYSA-N"
   ]
  },
  {
   "cell_type": "markdown",
   "metadata": {},
   "source": [
    "<h2>Standardization"
   ]
  },
  {
   "cell_type": "code",
   "execution_count": 6,
   "metadata": {},
   "outputs": [
    {
     "ename": "NameError",
     "evalue": "name 'show_change' is not defined",
     "output_type": "error",
     "traceback": [
      "\u001b[0;31m---------------------------------------------------------------------------\u001b[0m",
      "\u001b[0;31mNameError\u001b[0m                                 Traceback (most recent call last)",
      "\u001b[0;32m/var/folders/bb/3kv0h8c525j8l4s30wv_gq1m0000gn/T/ipykernel_68459/205331259.py\u001b[0m in \u001b[0;36m<module>\u001b[0;34m\u001b[0m\n\u001b[1;32m     15\u001b[0m \u001b[0;34m\u001b[0m\u001b[0m\n\u001b[1;32m     16\u001b[0m \u001b[0;31m#Tautemers\u001b[0m\u001b[0;34m\u001b[0m\u001b[0;34m\u001b[0m\u001b[0m\n\u001b[0;32m---> 17\u001b[0;31m \u001b[0mshow_change\u001b[0m\u001b[0;34m(\u001b[0m\u001b[0mAcetazolamide\u001b[0m\u001b[0;34m)\u001b[0m\u001b[0;34m\u001b[0m\u001b[0;34m\u001b[0m\u001b[0m\n\u001b[0m",
      "\u001b[0;31mNameError\u001b[0m: name 'show_change' is not defined"
     ]
    }
   ],
   "source": [
    "#Using standardizer (https://github. com/flatkinson/standardiser)\n",
    "#unsalt\n",
    "non_salt_frags = []\n",
    "\n",
    "for frag in Chem.GetMolFrags(mol, asMols=True):\n",
    "    if unsalt.is_nonorganic(frag): continue # Looks for any 'non-organic' element\n",
    "    if unsalt.is_salt(frag): continue       # Uses salt dictionary\n",
    "    non_salt_frags.append(frag)\n",
    "    \n",
    "Draw.MolsToGridImage(non_salt_frags)\n",
    "\n",
    "#neuralise\n",
    "\n",
    "mol = neutralise.run(non_salt_frags[0])\n",
    "\n",
    "#Tautemers\n",
    "show_change(Acetazolamide)\n"
   ]
  },
  {
   "cell_type": "code",
   "execution_count": 7,
   "metadata": {},
   "outputs": [],
   "source": [
    "#outputing Inchikey after standardization\n",
    "from rdkit.Chem import inchi\n",
    "inchikey = inchi.MolToInchiKey(mol)"
   ]
  },
  {
   "cell_type": "markdown",
   "metadata": {},
   "source": [
    "A1: 2D fingerprints"
   ]
  },
  {
   "cell_type": "code",
   "execution_count": 61,
   "metadata": {},
   "outputs": [
    {
     "name": "stderr",
     "output_type": "stream",
     "text": [
      "2022-09-27 18:18:38,399|INFO|Generating conformers for Acetazolamide.\n",
      "2022-09-27 18:18:38,722|INFO|Generated 3 conformers for Acetazolamide.\n",
      "2022-09-27 18:18:38,730|INFO|Generating fingerprints for Acetazolamide.\n",
      "2022-09-27 18:18:38,904|INFO|Generated 3 fingerprints for Acetazolamide.\n"
     ]
    }
   ],
   "source": [
    "#morgan finger print with radius of 2\n",
    "morgan_fp = AllChem.GetMorganFingerprint(mol,2)\n",
    "\n",
    "\n"
   ]
  },
  {
   "cell_type": "markdown",
   "metadata": {},
   "source": [
    "A2: 3D fingerprints"
   ]
  },
  {
   "cell_type": "code",
   "execution_count": 37,
   "metadata": {},
   "outputs": [
    {
     "name": "stderr",
     "output_type": "stream",
     "text": [
      "2022-09-29 14:37:02,173|INFO|Generating conformers for Acetazolamide.\n",
      "2022-09-29 14:37:02,499|INFO|Generated 3 conformers for Acetazolamide.\n",
      "2022-09-29 14:37:02,502|INFO|Generating fingerprints for Acetazolamide.\n",
      "2022-09-29 14:37:02,648|INFO|Generated 3 fingerprints for Acetazolamide.\n"
     ]
    }
   ],
   "source": [
    "#3D fingerprints. The 1,024-bit E3FP fingerprints \n",
    "from e3fp.config.params import read_params\n",
    "from e3fp.pipeline import fprints_from_mol\n",
    "\n",
    "config = read_params(\"e3fp/new_params.cfg\")\n",
    "\n",
    "confgen_params = {'max_energy_diff': 20.0, 'first': 3}\n",
    "fprint_params = {'bits': 1024, 'radius_multiplier': 2, 'rdkit_invariants': True}\n",
    "\n",
    "conformer = confs_from_smiles(Acetazolamide, \"Acetazolamide\", confgen_params=confgen_params)\n",
    "# conformer.GetNumConformers()\n",
    "\n",
    "fprints = fprints_from_mol(conformer, fprint_params=fprint_params)"
   ]
  },
  {
   "cell_type": "markdown",
   "metadata": {},
   "source": [
    "A3: scaffolds"
   ]
  },
  {
   "cell_type": "code",
   "execution_count": 38,
   "metadata": {},
   "outputs": [],
   "source": [
    "#Murcko’s scaffold\n",
    "from rdkit.Chem.Scaffolds.MurckoScaffold import GetScaffoldForMol,MakeScaffoldGeneric\n",
    "\n",
    "Mscaffold = Chem.MolToSmiles(GetScaffoldForMol(mol))\n",
    "# Chem.MolToSmiles(Mscaffold)\n",
    "#molecular framework\n",
    "mol_Mscaffold = Chem.MolFromSmiles(Mscaffold)\n",
    "fw = MakeScaffoldGeneric(mol)"
   ]
  },
  {
   "cell_type": "markdown",
   "metadata": {},
   "source": [
    "A4: structural keys"
   ]
  },
  {
   "cell_type": "code",
   "execution_count": 95,
   "metadata": {},
   "outputs": [],
   "source": [
    "from rdkit.Chem import MACCSkeys\n",
    "from rdkit import DataStructs\n",
    "\n",
    "fps = MACCSkeys.GenMACCSKeys(mol)\n"
   ]
  },
  {
   "cell_type": "markdown",
   "metadata": {},
   "source": [
    "A5: physicochemical parameters"
   ]
  },
  {
   "cell_type": "code",
   "execution_count": 44,
   "metadata": {},
   "outputs": [],
   "source": [
    "from rdkit.Chem import Descriptors, rdMolDescriptors, rdchem, Crippen,Lipinski\n",
    "from rdkit.Chem.rdchem import StereoType\n",
    "#molecular weight, \n",
    "mw = Descriptors.ExactMolWt(mol)\n",
    "\n",
    "# number of heavy atoms\n",
    "nHeavy = rdMolDescriptors.CalcNumHeavyAtoms(mol)\n",
    "# number of heteroatoms\n",
    "nHetero = rdMolDescriptors.CalcNumHeteroatoms(mol) \n",
    "# number of rings\n",
    "nRing = rdMolDescriptors.CalcNumRings(mol) \n",
    "# number of aliphatic rings \n",
    "nAliphatic = rdMolDescriptors.CalcNumAliphaticRings(mol)\n",
    "# number of aromatic rings\n",
    "\n",
    "nAromatic = rdMolDescriptors.CalcNumAromaticRings(mol)\n",
    "\n",
    "# number of hydrogen bond acceptors\n",
    "nHBA = rdMolDescriptors.CalcNumHBA(mol)\n",
    "\n",
    "#! GetNumBonds\n",
    "#nAliphatic = rdchem.GetBonds(mol)\n",
    "# double = StereoType.Bond_Double(mol)\n",
    "rotatable = Lipinski.NumRotatableBonds(mol)\n",
    "nBond =rotatable #+ double \n",
    "# number of hydrogen bond donors \n",
    "nHBD = rdMolDescriptors.CalcNumHBD(mol)\n",
    "\n",
    "# number of rotatable bonds\n",
    "nRotatable = rdMolDescriptors.CalcNumRotatableBonds(mol)\n",
    "\n",
    "# logP\n",
    "logP = Crippen.MolLogP(mol)\n",
    "\n",
    "#! molecular refractivity\n",
    "\n",
    "\n",
    "# polar surface area\n",
    "\n",
    "psurface = rdMolDescriptors.CalcTPSA(mol)\n",
    "\n",
    "\n",
    "#Lipinski’s rule-of-five violations\n",
    "# Molecular weight <= 500\n",
    "# LogP <= 5\n",
    "# H-bond donor count <= 5\n",
    "# H-bond acceptor count <= 10\n",
    "rule_of_five = [mw <= 500,logP <= 5,nHBD <=5,nHBA <=5]\n",
    "r5 = all(item is True for item in rule_of_five)\n",
    "\n",
    "#rule-of-three violations\n",
    "# molecular weight of a fragment is <300\n",
    "# the v is ≤3\n",
    "# the number of hydrogen bond donors is ≤3\n",
    "# the number of hydrogen bond acceptors is ≤3.\n",
    "rule_of_three = [mw <= 300,logP <= 3,nHBD <=3,nHBA <=3]\n",
    "r3 = all(item is True for item in rule_of_three)\n",
    "\n",
    "#chemical beauty (QED)\n",
    "from qed import qed\n",
    "QED = qed.weights_max(mol)"
   ]
  }
 ],
 "metadata": {
  "kernelspec": {
   "display_name": "Python 3.9.7 ('ml-local')",
   "language": "python",
   "name": "python3"
  },
  "language_info": {
   "codemirror_mode": {
    "name": "ipython",
    "version": 3
   },
   "file_extension": ".py",
   "mimetype": "text/x-python",
   "name": "python",
   "nbconvert_exporter": "python",
   "pygments_lexer": "ipython3",
   "version": "3.9.7"
  },
  "orig_nbformat": 4,
  "vscode": {
   "interpreter": {
    "hash": "9d7ba61e87cff69ddf8c6892363fe34f5be9bc7e813fabe49956b05e9a424faf"
   }
  }
 },
 "nbformat": 4,
 "nbformat_minor": 2
}
