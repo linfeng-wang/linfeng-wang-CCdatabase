{
 "cells": [
  {
   "cell_type": "code",
   "execution_count": 4,
   "metadata": {},
   "outputs": [],
   "source": [
    "# activate CC_sign env\n",
    "import pandas as pd\n",
    "import icecream as ic\n",
    "import numpy as np\n",
    "# import plotly\n",
    "import matplotlib as plt\n",
    "import pandas as pd\n",
    "import itertools\n",
    "from rdkit import Chem"
   ]
  },
  {
   "cell_type": "code",
   "execution_count": null,
   "metadata": {},
   "outputs": [],
   "source": []
  }
 ],
 "metadata": {
  "kernelspec": {
   "display_name": "Python 3.7.15 ('CC_sign')",
   "language": "python",
   "name": "python3"
  },
  "language_info": {
   "codemirror_mode": {
    "name": "ipython",
    "version": 3
   },
   "file_extension": ".py",
   "mimetype": "text/x-python",
   "name": "python",
   "nbconvert_exporter": "python",
   "pygments_lexer": "ipython3",
   "version": "3.7.15"
  },
  "orig_nbformat": 4,
  "vscode": {
   "interpreter": {
    "hash": "fd11394f824cd53b400767c893f3b684d43cf7ca569ceed0c439be8d28352f56"
   }
  }
 },
 "nbformat": 4,
 "nbformat_minor": 2
}
