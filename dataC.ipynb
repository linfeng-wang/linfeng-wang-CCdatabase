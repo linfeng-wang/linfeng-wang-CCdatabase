{
 "cells": [
  {
   "cell_type": "markdown",
   "metadata": {},
   "source": [
    "<h2>C - Network"
   ]
  },
  {
   "cell_type": "code",
   "execution_count": 18,
   "metadata": {},
   "outputs": [],
   "source": [
    "import pandas as pd\n",
    "import icecream as ic\n",
    "import numpy as np\n",
    "import plotly\n",
    "import matplotlib as plt\n",
    "import xml.etree.ElementTree as ET\n",
    "import pandas as pd\n",
    "import psycopg2\n",
    "import psycopg2.extras"
   ]
  },
  {
   "cell_type": "markdown",
   "metadata": {},
   "source": [
    "C1: small-molecule roles"
   ]
  },
  {
   "cell_type": "code",
   "execution_count": 61,
   "metadata": {},
   "outputs": [
    {
     "name": "stdout",
     "output_type": "stream",
     "text": [
      "Acetazolamide\n"
     ]
    },
    {
     "data": {
      "text/plain": [
       "{'has_part': [['Diamox'],\n",
       "  ['Sodium acetazolamide'],\n",
       "  ['sodium [(5-acetamido-1,3,4-thiadiazol-2-yl)sulfonyl]azanide'],\n",
       "  ['N-(5-Sulfamoyl-1,3,4-thiadiazol-2-yl)acetamide monosodium salt']],\n",
       " 'is_conjugate_base_of': [['[(5-acetamido-1,3,4-thiadiazol-2-yl)sulfonyl]azanide'],\n",
       "  ['acetazolamide']]}"
      ]
     },
     "execution_count": 61,
     "metadata": {},
     "output_type": "execute_result"
    }
   ],
   "source": [
    "#chebi database\n",
    "\n",
    "hostname = 'localhost'\n",
    "database = 'Chebi'\n",
    "username = 'postgres'\n",
    "pwd = 'wlf1115'\n",
    "port_id = 5432\n",
    "conn = None\n",
    "\n",
    "query = 'Acetazolamide'\n",
    "with psycopg2.connect(\n",
    "                    host = hostname,\n",
    "                    dbname = database,\n",
    "                    user = username,\n",
    "                    password = pwd,\n",
    "                    port = port_id) as conn:\n",
    "    with conn.cursor(cursor_factory=psycopg2.extras.DictCursor) as cur:\n",
    "\n",
    "        query_script = '''SELECT type, final_id\n",
    "                        FROM relation\n",
    "                        WHERE init_id = (\n",
    "                            SELECT compound_id\n",
    "                            FROM names\n",
    "                            WHERE name IN (%s)\n",
    "                            )'''\n",
    "        cur.execute(query_script, (query,))\n",
    "        \n",
    "        type_id = {}\n",
    "        type_compound = {}\n",
    "        for record in cur.fetchall():\n",
    "            type_id[record[0]] = []\n",
    "            type_compound[record[0]] = []\n",
    "            type_id[record[0]] = record[1]\n",
    "\n",
    "\n",
    "        for k,v in type_id.items():\n",
    "            # query1 = '''SELECT name\n",
    "            #             FROM names\n",
    "            #             WHERE compound_id IN ({}\n",
    "            #             )'''.format(tuple([x]))\n",
    "            query_script1 = '''SELECT name\n",
    "                        FROM names\n",
    "                        WHERE compound_id IN (%s)\n",
    "                        '''\n",
    "            query1 = tuple([v])\n",
    "            cur.execute(query_script1, query1)\n",
    "            for record in cur.fetchall():\n",
    "                type_compound[k].append(record)\n",
    "\n",
    "print(query)\n",
    "type_compound    "
   ]
  },
  {
   "cell_type": "markdown",
   "metadata": {},
   "source": [
    "C2: metabolic pathways"
   ]
  },
  {
   "cell_type": "code",
   "execution_count": null,
   "metadata": {},
   "outputs": [],
   "source": [
    "# https://www.ebi.ac.uk/biomodels/MODEL1109130000#Files #!how to get binary data, how is the graph represented\n",
    "# We downloaded the reconstruction of human metabolism (Recon)57 from Pathway Commons58 (http://www.pathwaycommons.org, July 2017) in binary interaction form. \n",
    "# Data were represented as an undirected graph where nodes are metabolites and edges denote reactions."
   ]
  },
  {
   "cell_type": "markdown",
   "metadata": {},
   "source": [
    "C3: signaling pathways"
   ]
  },
  {
   "cell_type": "code",
   "execution_count": null,
   "metadata": {},
   "outputs": [],
   "source": [
    "#  C3 space (and the C4 and C5 spaces) is aimed at any molecule with known protein targets. \n",
    "# In this case, we list the biological pathways that may be affected by the interaction of a molecule with its targets. \n",
    "# Human pathways were collected from Reactome (https://reactome.org, May 2017) #! use of graphDB\n",
    "# we chose to use binding activities from B4, since this is an extensive dataset containing mostly literature data with well-accepted activity thresholds. \n",
    "# In B4, 24.5% of the compound–protein interactions do not correspond to human proteins. #!need B4 data\n",
    "# These were mapped to their human orthologs using MetaPhOrs60 (http://orthology.phylomedb.org, May 2017), following the observation that binding activities can be safely transferred between orthologous proteins61,  #!how is it done, it is a database?\n",
    "# especially if they belong to closely related species, as it is the case for B4 data62. Of all the nonhuman proteins mapped to the human orthologs, 94.4% were mammal proteins #!http://orthology.phylomedb.org/download"
   ]
  },
  {
   "cell_type": "markdown",
   "metadata": {},
   "source": [
    "C4: biological processes"
   ]
  },
  {
   "cell_type": "code",
   "execution_count": null,
   "metadata": {},
   "outputs": [],
   "source": [
    "# We downloaded the Gene Ontology Annotation database (https://www.ebi.ac.uk/GOA, May 2017)  #!data can't be downloaded\n",
    "# read the ‘biological process’ branch of the ontology as a directed acyclic graph (‘is a’ relationships). \n",
    "# Proteins were annotated with their Gene Ontology Annotation biological process terms plus parent terms (up to the root of the directed acyclic graph). \n",
    "# Similar to C3, we associated molecules with biological process terms by simply checking the annotations of the molecule targets (B4)."
   ]
  },
  {
   "cell_type": "markdown",
   "metadata": {},
   "source": [
    "C5: interactomes"
   ]
  },
  {
   "cell_type": "code",
   "execution_count": null,
   "metadata": {},
   "outputs": [],
   "source": [
    "# We collected five representative PPI networks, namely STRING (score of >700, that is, high confidence)63 (v.10, https://string-db.org) (14,725 proteins (p), 300,686 interactions (i)), #! waiting for data\n",
    "# InWeb (score of 0.5)64 (http://www.intomics.com/inbio/map, March 2017) (10,100 p, 168,970 i), #!paid service?\n",
    "# a portion of Pathway Commons containing interactions from known pathways (Kyoto Encylopedia of Genes and Genomes65, NetPath66, PANTHER67 and WikiPathways68) (9,344 p, 242,962 i), #!need to find out\n",
    "# an in-house network of physical binary PPIs69 (13,038 p, 64,659 i),  #!need to find in house pipeline\n",
    "# a network of metabolic genes based on Recon (v.2, http://vmh.uni.lu) (1,628 p, 246,937 i). #! recon https://www.vmh.life/#home matlab file?\n",
    "\n",
    "# To build this last network, we linked two metabolic proteins (enzymes or transporters) when the product metabolite of the first was the substrate of the second, or when both were needed to perform a certain reaction, suggesting that they are part of the same protein complex. Edges between proteins were weighted inversely proportional to the number of reactions involving their shared metabolites, so that ‘currency’ metabolites such as ATP and water had marginal impact on the network connectivity. To control for indirect associations, we deconvoluted the network using edge weights and setting a network deconvolution score cutoff of 0.9"
   ]
  },
  {
   "cell_type": "code",
   "execution_count": null,
   "metadata": {},
   "outputs": [],
   "source": [
    "#network processing\n"
   ]
  }
 ],
 "metadata": {
  "kernelspec": {
   "display_name": "Python 3.10.6 ('ml-air')",
   "language": "python",
   "name": "python3"
  },
  "language_info": {
   "codemirror_mode": {
    "name": "ipython",
    "version": 3
   },
   "file_extension": ".py",
   "mimetype": "text/x-python",
   "name": "python",
   "nbconvert_exporter": "python",
   "pygments_lexer": "ipython3",
   "version": "3.10.6"
  },
  "orig_nbformat": 4,
  "vscode": {
   "interpreter": {
    "hash": "894005d3a7f9e7f90f1d225b789862a942f5be96f0c7d0676c3b66e7cb3c009e"
   }
  }
 },
 "nbformat": 4,
 "nbformat_minor": 2
}
