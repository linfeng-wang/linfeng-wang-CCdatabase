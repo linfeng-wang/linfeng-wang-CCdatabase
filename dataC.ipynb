{
 "cells": [
  {
   "cell_type": "markdown",
   "metadata": {},
   "source": [
    "<h2>C - Network"
   ]
  },
  {
   "cell_type": "code",
   "execution_count": 1,
   "metadata": {},
   "outputs": [],
   "source": [
    "import pandas as pd\n",
    "import icecream as ic\n",
    "import numpy as np\n",
    "import plotly\n",
    "import matplotlib as plt\n",
    "import xml.etree.ElementTree as ET\n",
    "from inspect import getmembers, isclass, isfunction1007\n",
    "import pandas as pd"
   ]
  },
  {
   "cell_type": "markdown",
   "metadata": {},
   "source": [
    "small-molecule roles"
   ]
  },
  {
   "cell_type": "markdown",
   "metadata": {},
   "source": [
    "C1: small-molecule roles"
   ]
  },
  {
   "cell_type": "markdown",
   "metadata": {},
   "source": [
    "C2: metabolic pathways"
   ]
  },
  {
   "cell_type": "markdown",
   "metadata": {},
   "source": [
    "C3: signaling pathways"
   ]
  },
  {
   "cell_type": "markdown",
   "metadata": {},
   "source": [
    "C4: biological processes"
   ]
  },
  {
   "cell_type": "markdown",
   "metadata": {},
   "source": [
    "C5: interactomes"
   ]
  }
 ],
 "metadata": {
  "kernelspec": {
   "display_name": "Python 3.8.8 64-bit ('anaconda3')",
   "language": "python",
   "name": "python3"
  },
  "language_info": {
   "codemirror_mode": {
    "name": "ipython",
    "version": 3
   },
   "file_extension": ".py",
   "mimetype": "text/x-python",
   "name": "python",
   "nbconvert_exporter": "python",
   "pygments_lexer": "ipython3",
   "version": "3.8.8"
  },
  "orig_nbformat": 4,
  "vscode": {
   "interpreter": {
    "hash": "b1b1938cf3d591d47e6fae0559c1570f615a15d3afe822d881c085899a80a8da"
   }
  }
 },
 "nbformat": 4,
 "nbformat_minor": 2
}
