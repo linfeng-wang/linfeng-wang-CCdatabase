{
 "cells": [
  {
   "cell_type": "code",
   "execution_count": 1,
   "metadata": {},
   "outputs": [],
   "source": [
    "#use base environment\n",
    "import pandas as pd\n",
    "import icecream as ic\n",
    "import numpy as np\n",
    "import plotly\n",
    "import matplotlib as plt\n",
    "from rdkit import Chem\n",
    "from rdkit.Chem.Draw import IPythonConsole\n",
    "from rdkit.Chem import Draw\n",
    "# from chemicalchecker import ChemicalChecker\n",
    "# cc = ChemicalChecker()\n",
    "\n",
    "from standardiser import unsalt, neutralise,rules\n",
    "from standardiser.rules_demo import show_change\n",
    "\n",
    "import e3fp\n",
    "from e3fp.pipeline import confs_from_smiles\n",
    "import csv\n",
    "\n",
    "\n",
    "import six\n",
    "\n",
    "import warnings\n",
    "\n",
    "import sys\n",
    "import re\n",
    "import random\n",
    "\n",
    "# from ipywidgets import HTML\n",
    "\n",
    "import pandas as pd\n",
    "\n",
    "from rdkit import Chem\n",
    "from rdkit.Chem import Draw, PandasTools, AllChem\n",
    "with warnings.catch_warnings():\n",
    "    warnings.simplefilter(\"ignore\")\n",
    "    from rdkit.Chem.Draw import IPythonConsole\n",
    "IPythonConsole.molSize = (450, 200)\n",
    "PandasTools.RenderImagesInAllDataFrames()\n",
    "\n",
    "from e3fp.config.params import read_params\n",
    "from e3fp.pipeline import fprints_from_mol\n",
    "from rdkit.Chem.Scaffolds.MurckoScaffold import GetScaffoldForMol,MakeScaffoldGeneric\n",
    "\n",
    "from rdkit.Chem import MACCSkeys\n",
    "from rdkit import DataStructs\n",
    "from rdkit.Chem import inchi\n",
    "from qed import qed\n"
   ]
  },
  {
   "cell_type": "code",
   "execution_count": 2,
   "metadata": {},
   "outputs": [],
   "source": [
    "#import setting from Standardizer\n",
    "from __future__  import print_function, division, absolute_import\n",
    "\n",
    "import six\n",
    "\n",
    "import warnings\n",
    "\n",
    "import sys\n",
    "import re\n",
    "import random\n",
    " \n",
    "# from ipywidgets import HTML\n",
    "\n",
    "import pandas as pd\n",
    " \n",
    "from rdkit import Chem\n",
    "from rdkit.Chem import Draw, PandasTools, AllChem\n",
    "with warnings.catch_warnings():\n",
    "    warnings.simplefilter(\"ignore\")\n",
    "    from rdkit.Chem.Draw import IPythonConsole\n",
    "IPythonConsole.molSize = (450, 200)\n",
    "PandasTools.RenderImagesInAllDataFrames()\n",
    "\n",
    "from urllib.request import urlopen\n",
    "from urllib.parse import quote\n",
    "\n"
   ]
  },
  {
   "cell_type": "code",
   "execution_count": 3,
   "metadata": {},
   "outputs": [],
   "source": [
    "\n",
    "chemical_list = ['Acetazolamide','Acetylcholine','Adenosine']\n"
   ]
  },
  {
   "cell_type": "code",
   "execution_count": 4,
   "metadata": {},
   "outputs": [],
   "source": [
    "\n",
    "def CIRconvert(ids): #convert name to smile\n",
    "    try:\n",
    "        url = 'http://cactus.nci.nih.gov/chemical/structure/' + quote(ids) + '/smiles'\n",
    "        ans = urlopen(url).read().decode('utf8')\n",
    "        return ans\n",
    "    except:\n",
    "        return 'Did not work'\n"
   ]
  },
  {
   "cell_type": "code",
   "execution_count": 14,
   "metadata": {},
   "outputs": [
    {
     "data": {
      "text/plain": [
       "'CC(=O)Nc1sc(nn1)[S](N)(=O)=O'"
      ]
     },
     "execution_count": 14,
     "metadata": {},
     "output_type": "execute_result"
    }
   ],
   "source": [
    "CIRconvert('Acetazolamide')"
   ]
  },
  {
   "cell_type": "code",
   "execution_count": 5,
   "metadata": {},
   "outputs": [
    {
     "data": {
      "image/png": "[encoded data removed]",
      "text/plain": [
       "<rdkit.Chem.rdchem.Mol at 0x7fcb08d5fb80>"
      ]
     },
     "execution_count": 5,
     "metadata": {},
     "output_type": "execute_result"
    }
   ],
   "source": [
    "Acetazolamide = \"CC(=O)NC1=NN=C(S1)S(=O)(=O)N\"\n",
    "mol = Chem.MolFromSmiles(Acetazolamide)\n",
    "\n",
    "# Default\n",
    "mol\n"
   ]
  },
  {
   "cell_type": "markdown",
   "metadata": {},
   "source": [
    "https://chemicalchecker.org/explore/BZKPWHYZMXOIDC-UHFFFAOYSA-N"
   ]
  },
  {
   "cell_type": "markdown",
   "metadata": {},
   "source": [
    "Standardization"
   ]
  },
  {
   "cell_type": "code",
   "execution_count": 6,
   "metadata": {},
   "outputs": [],
   "source": [
    "def standardize(mol):\n",
    "    #Using standardizer (https://github. com/flatkinson/standardiser)\n",
    "    #unsalt\n",
    "    # The unsalt module identifies counterions and solvate components, such that they can be removed. It does not do the removal itself, as each component is put through the whole standardization pipeline before counterions and/or solvate components are identified. Note that any component containing an non-organic element is removed before the standardization pipeline is applied.\n",
    "    non_salt_frags = []\n",
    "\n",
    "    for frag in Chem.GetMolFrags(mol, asMols=True):\n",
    "        if unsalt.is_nonorganic(frag): continue # Looks for any 'non-organic' element\n",
    "        if unsalt.is_salt(frag): continue       # Uses salt dictionary\n",
    "        non_salt_frags.append(frag)\n",
    "        \n",
    "    Draw.MolsToGridImage(non_salt_frags)\n",
    "\n",
    "    #neuralise\n",
    "    # This document describes the operation of the neutralize module, which attempts to balance charges via the removal and/or addition of protons.\n",
    "    mol = neutralise.run(non_salt_frags[0])\n",
    "\n",
    "    #Tautemers\n",
    "    # Tautomers are isomers of a molecule that exist in solution or in a cell. They are interchangeable forms because chemical bonds are rearranged many times spontaneously. \n",
    "    # rules.logger.setLevel('DEBUG')\n",
    "    # rules.add_rule_set('tautomerism_and_aromaticity')\n",
    "    # HTML(show_change(mol))\n",
    "    # print(mol)\n",
    "\n",
    "    #outputing Inchikey after standardization\n",
    "    inchikey = inchi.MolToInchiKey(mol)\n",
    "    return mol\n"
   ]
  },
  {
   "cell_type": "markdown",
   "metadata": {},
   "source": [
    "A1: 2D fingerprints"
   ]
  },
  {
   "cell_type": "code",
   "execution_count": 7,
   "metadata": {},
   "outputs": [],
   "source": [
    "#morgan finger print with radius of 2\n",
    "# The Morgan fingerprint is basically a reimplementation of the extended conectivity fingerprint (ECFP). \n",
    "# 5)Extended-connectivity fingerprints (ECFPs) are a recently developed fingerprint methodology explicitly designed to capture molecular features relevant to molecular activity.\n",
    "def a1_func(mol):\n",
    "    info = {}\n",
    "    morgan_fp = AllChem.GetMorganFingerprint(mol,2,bitInfo=info)\n",
    "    # print(morgan_fp)\n",
    "    len(morgan_fp.GetNonzeroElements())\n",
    "    return list(info.keys())\n",
    "# Information is available about the atoms that contribute to particular bits in the Morgan fingerprint via the bitInfo argument. The dictionary provided is populated with one entry per bit set in the fingerprint, the keys are the bit ids, the values are lists of (atom index, radius) tuples."
   ]
  },
  {
   "cell_type": "markdown",
   "metadata": {},
   "source": [
    "A2: 3D fingerprints"
   ]
  },
  {
   "cell_type": "code",
   "execution_count": 8,
   "metadata": {},
   "outputs": [],
   "source": [
    "#3D fingerprints. The 1,024-bit E3FP fingerprints \n",
    "# 3D molecular fingerprinting method inspired by Extended Connectivity FingerPrints (ECFP) 2, integrating tightly with the RDKit\n",
    "def a2_func(x):\n",
    "    # config = read_params(\"e3fp/new_params.cfg\")\n",
    "\n",
    "    confgen_params = {'max_energy_diff': 20.0, 'first': 3}\n",
    "    fprint_params = {'bits': 1024, 'radius_multiplier': 2, 'rdkit_invariants': True}\n",
    "\n",
    "    conformer = confs_from_smiles(CIRconvert(x), x, confgen_params=confgen_params);\n",
    "    # conformer.GetNumConformers()\n",
    "\n",
    "    fprints = fprints_from_mol(conformer, fprint_params=fprint_params);\n",
    "    return fprints"
   ]
  },
  {
   "cell_type": "markdown",
   "metadata": {},
   "source": [
    "A3: scaffolds"
   ]
  },
  {
   "cell_type": "code",
   "execution_count": 9,
   "metadata": {},
   "outputs": [],
   "source": [
    "#Murcko’s scaffold\n",
    "# This method employs a more systematical way to dissect a molecule into four parts: ring systems, linkers, side chains, and the Murcko framework that is the union of ring systems and linkers in a molecule.\n",
    "def a3_func(mol):\n",
    "    Mscaffold = Chem.MolToSmiles(GetScaffoldForMol(mol))\n",
    "    # Chem.MolToSmiles(Mscaffold)\n",
    "    #molecular framework\n",
    "    # mol_Mscaffold = Chem.MolFromSmiles(Mscaffold)\n",
    "    # fw = MakeScaffoldGeneric(mol)\n",
    "    # print(fw)\n",
    "    return Mscaffold"
   ]
  },
  {
   "cell_type": "markdown",
   "metadata": {},
   "source": [
    "A4: structural keys"
   ]
  },
  {
   "cell_type": "code",
   "execution_count": 10,
   "metadata": {},
   "outputs": [],
   "source": [
    "def a4_func(mol):\n",
    "    # MACCS keys are used to compute molecular similarity for computational drug design and database matching. This function follows the RDKit implementation of the 166-bit MACCS keys.\n",
    "    fps = MACCSkeys.GenMACCSKeys(mol)\n",
    "    return fps.ToBitString()"
   ]
  },
  {
   "cell_type": "markdown",
   "metadata": {},
   "source": [
    "A5: physicochemical parameters"
   ]
  },
  {
   "cell_type": "code",
   "execution_count": 11,
   "metadata": {},
   "outputs": [],
   "source": [
    "from rdkit.Chem import Descriptors, rdMolDescriptors, rdchem, Crippen,Lipinski\n",
    "from rdkit.Chem.rdchem import StereoType\n",
    "#molecular weight, \n",
    "\n",
    "def chemicalAlert(query):\n",
    "    alert_df = pd.read_csv(\"DB/alert_collection.csv\")\n",
    "    for x in alert_df['smarts']:\n",
    "        if x in query:\n",
    "            return 1\n",
    "        else:\n",
    "            return 0 \n",
    "        \n",
    "def a5_func(mol):\n",
    "    physicochemical = []\n",
    "    mw = Descriptors.ExactMolWt(mol)\n",
    "    physicochemical.append(mw)\n",
    "\n",
    "    # number of heavy atoms\n",
    "    nHeavy = rdMolDescriptors.CalcNumHeavyAtoms(mol)\n",
    "    physicochemical.append(nHeavy)\n",
    "\n",
    "\n",
    "    # number of heteroatoms\n",
    "    nHetero = rdMolDescriptors.CalcNumHeteroatoms(mol) \n",
    "    physicochemical.append(nHetero)\n",
    "\n",
    "    # number of rings\n",
    "    nRing = rdMolDescriptors.CalcNumRings(mol) \n",
    "    physicochemical.append(nRing)\n",
    "\n",
    "    # number of aliphatic rings \n",
    "    nAliphatic = rdMolDescriptors.CalcNumAliphaticRings(mol)\n",
    "    physicochemical.append(nAliphatic)\n",
    "    \n",
    "    # number of aromatic rings\n",
    "    nAromatic = rdMolDescriptors.CalcNumAromaticRings(mol)\n",
    "    physicochemical.append(nAromatic)\n",
    "\n",
    "    # number of hydrogen bond acceptors\n",
    "    nHBA = rdMolDescriptors.CalcNumHBA(mol)\n",
    "    physicochemical.append(nHBA)\n",
    "    \n",
    "    #! GetNumBonds\n",
    "    #nAliphatic = rdchem.GetBonds(mol)\n",
    "    # double = StereoType.Bond_Double(mol)\n",
    "    rotatable = Lipinski.NumRotatableBonds(mol)\n",
    "    nBond =rotatable #+ double \n",
    "    physicochemical.append(nBond) \n",
    "\n",
    "    # number of hydrogen bond donors \n",
    "    nHBD = rdMolDescriptors.CalcNumHBD(mol)\n",
    "    physicochemical.append(nHBD)\n",
    "    \n",
    "    # number of rotatable bonds\n",
    "    nRotatable = rdMolDescriptors.CalcNumRotatableBonds(mol)\n",
    "    physicochemical.append(nRotatable)\n",
    "\n",
    "    # logP\n",
    "    logP = Crippen.MolLogP(mol)\n",
    "    physicochemical.append(logP)\n",
    "\n",
    "    #! molecular refractivity\n",
    "\n",
    "    # polar surface area\n",
    "\n",
    "    psurface = rdMolDescriptors.CalcTPSA(mol)\n",
    "    physicochemical.append(psurface)\n",
    "\n",
    "    #Structural alert\n",
    "    # Parts of organic molecules which are believed to be responsible for adverse effects (e.g. genotoxicity) and can be used to predict the toxicity of similar compounds.\n",
    "\n",
    "\n",
    "    alert = chemicalAlert(Acetazolamide)\n",
    "    physicochemical.append(alert)\n",
    "\n",
    "    #Lipinski’s rule-of-five violations\n",
    "    # Molecular weight <= 500\n",
    "    # LogP <= 5\n",
    "    # H-bond donor count <= 5\n",
    "    # H-bond acceptor count <= 10\n",
    "    rule_of_five = [mw <= 500,logP <= 5,nHBD <=5,nHBA <=5]\n",
    "    r5 = all(item is True for item in rule_of_five)\n",
    "    physicochemical.append(r5)\n",
    "\n",
    "    #rule-of-three violations\n",
    "    # molecular weight of a fragment is <300\n",
    "    # the v is ≤3\n",
    "    # the number of hydrogen bond donors is ≤3\n",
    "    # the number of hydrogen bond acceptors is ≤3.\n",
    "    rule_of_three = [mw <= 300,logP <= 3,nHBD <=3,nHBA <=3]\n",
    "    r3 = all(item is True for item in rule_of_three)\n",
    "\n",
    "    #chemical beauty (QED)\n",
    "    QED = qed.weights_max(mol)\n",
    "    physicochemical.append(QED)\n",
    "\n",
    "    return physicochemical"
   ]
  },
  {
   "cell_type": "markdown",
   "metadata": {},
   "source": [
    "# Running"
   ]
  },
  {
   "cell_type": "code",
   "execution_count": 12,
   "metadata": {},
   "outputs": [
    {
     "name": "stderr",
     "output_type": "stream",
     "text": [
      "2022-11-27 21:31:20,641|INFO|Generating conformers for Acetazolamide.\n",
      "2022-11-27 21:31:20,935|INFO|Generated 3 conformers for Acetazolamide.\n",
      "2022-11-27 21:31:20,935|INFO|Generating fingerprints for Acetazolamide.\n",
      "2022-11-27 21:31:21,044|INFO|Generated 3 fingerprints for Acetazolamide.\n",
      "2022-11-27 21:31:22,326|INFO|Generating conformers for Acetylcholine.\n",
      "2022-11-27 21:31:22,734|INFO|Generated 3 conformers for Acetylcholine.\n",
      "2022-11-27 21:31:22,735|INFO|Generating fingerprints for Acetylcholine.\n",
      "2022-11-27 21:31:22,818|INFO|Generated 3 fingerprints for Acetylcholine.\n",
      "2022-11-27 21:31:24,033|INFO|Generating conformers for Adenosine.\n",
      "2022-11-27 21:31:25,079|INFO|Generated 3 conformers for Adenosine.\n",
      "2022-11-27 21:31:25,079|INFO|Generating fingerprints for Adenosine.\n",
      "2022-11-27 21:31:25,253|INFO|Generated 3 fingerprints for Adenosine.\n"
     ]
    }
   ],
   "source": [
    "A1_result = []\n",
    "A2_result = []\n",
    "A3_result = []\n",
    "A4_result = []\n",
    "A5_result = []\n",
    "\n",
    "for x in chemical_list:    \n",
    "    mol = Chem.MolFromSmiles(CIRconvert(x))\n",
    "    mol = standardize(mol)\n",
    "    morgan = a1_func(mol)\n",
    "    A1_result.append(morgan)\n",
    "    fprints = a2_func(x)\n",
    "    A2_result.extend(fprints)\n",
    "    Mscaffold = a3_func(mol)\n",
    "    A3_result.append(Mscaffold)\n",
    "    keys = a4_func(mol)\n",
    "    A4_result.append(keys)\n",
    "    physicochemical = a5_func(mol)\n",
    "    A5_result.append(physicochemical)\n"
   ]
  },
  {
   "cell_type": "code",
   "execution_count": null,
   "metadata": {},
   "outputs": [],
   "source": []
  }
 ],
 "metadata": {
  "kernelspec": {
   "display_name": "Python 3.8.8 ('base')",
   "language": "python",
   "name": "python3"
  },
  "language_info": {
   "codemirror_mode": {
    "name": "ipython",
    "version": 3
   },
   "file_extension": ".py",
   "mimetype": "text/x-python",
   "name": "python",
   "nbconvert_exporter": "python",
   "pygments_lexer": "ipython3",
   "version": "3.8.8"
  },
  "orig_nbformat": 4,
  "vscode": {
   "interpreter": {
    "hash": "719e960f3f54c5ee92607b93109f40b81b93851334e04c87abf94713bfb801f5"
   }
  }
 },
 "nbformat": 4,
 "nbformat_minor": 2
}
